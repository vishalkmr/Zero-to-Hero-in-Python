{
 "cells": [
  {
   "cell_type": "markdown",
   "metadata": {},
   "source": [
    "# Python Data Type\n",
    "\n",
    "- [Numbers](#Numbers)\n",
    "    - [int](#int)\n",
    "    - [float](#float)\n",
    "    - [complex](#complex)\n",
    "<img src=\"images\\data_types.png\" style=\"float: right;\" width=350 height=350/>\n",
    "- [Boolean](#Boolean)\n",
    "- [List](#List)\n",
    "    - [Creating a List](#Creating_List)\n",
    "    - [Accessing List Elements](#Accessing_List)\n",
    "    - [Accessing the Index of an Element in the List](#Accessing_List_Index)\n",
    "    - [Updating a List](#Updating_List)       \n",
    "    - [Inserting Elements to the List](#Inserting_List)    \n",
    "    - [Deleting Elements from the List](#Deleting_List)    \n",
    "    - [Miscellaneous Functions](#Miscellaneous_Functions_List)    \n",
    "    - [Copying  Lists](#Copying_List)        \n",
    "    - [Arithmetic Operation on Lists](#Arithmetic_List)\n",
    "    - [List Membership](#List_Membership)\n",
    "    - [List Comprehension](#Comprehension_List)    \n",
    "\n",
    "- [Tuple](#Tuple)\n",
    "    - [Creating a Tuple](#Creating_Tuple)\n",
    "    - [Accessing Tuple Elements](#Accessing_Tuple)    \n",
    "    - [Updating Tuple](#Updating_Tuple)       \n",
    "    - [Miscellaneous Functions](#Miscellaneous_Functions_Tuple)    \n",
    "    - [Copying  Tuples](#Copying_Tuple)        \n",
    "    - [Arithmetic Operation on Tuples](#Arithmetic_Tuple)\n",
    "    - [Tuple Membership](#Tuple_Membership)\n",
    "    \n",
    "- [Set](#Set)\n",
    "    - [Creating a Set](#Creating_Set)\n",
    "    - [Accessing Set Elements](#Accessing_Set)     \n",
    "    - [Inserting Elements to the Set](#Inserting_Set)    \n",
    "    - [Deleting Elements from the Set](#Deleting_Set)    \n",
    "    - [Set Operations](#Set_Operations)    \n",
    "    - [Copying  Sets](#Copying_Set)\n",
    "    - [Arithmetic Operation on Sets](#Arithmetic_Set)\n",
    "    - [Set Membership](#Set_Membership)\n",
    "\n",
    "- [Dictionary](#Dictionary)\n",
    "    - [Creating a Dictionary](#Creating_Dictionary)\n",
    "    - [Accessing Dictionary Elements](#Accessing_Dictionary)\n",
    "    - [Updating & Inserting Elements to the Dictionary](#Updating_Dictionary)          \n",
    "    - [Deleting Elements from the Dictionary](#Deleting_Dictionary)     \n",
    "    - [Copying Dictionary ](#Copying_Dictionary)        \n",
    "    - [Dictionary Membership](#Dictionary_Membership)\n",
    "    - [Dictionary Comprehension](#Comprehension_Dictionary)   \n",
    "    \n",
    "- [Strings](#Strings)\n",
    "    - [Creating a String](#Creating_String)\n",
    "    - [Accessing Characters in a String ](#Accessing_String)\n",
    "    - [Updating a String](#Updating_String)          \n",
    "    - [String Operators](#String_Operators)    \n",
    "    - [Formatting Strings](#Formatting_Strings) \n",
    "    - [String Functions](#String_Functions) \n",
    "    - [Converting List items into a String](#Converting_String)        \n",
    "    - [String Membership](#String_Membership)\n",
    "  \n",
    "    "
   ]
  },
  {
   "cell_type": "markdown",
   "metadata": {},
   "source": [
    "----\n",
    "<a id='Numbers'></a>\n",
    "# Numbers "
   ]
  },
  {
   "cell_type": "markdown",
   "metadata": {},
   "source": [
    "<a id='int'></a></a> <img src=\"images\\int.gif\" style=\"float: right;\"  width=120 height=100 />\n",
    "## int\n",
    "Python didn't set any limit to how long an integer value can be. The value of integer is constrained by the<br> amount of memory your system has<br>\n",
    "\n",
    "<code>type(variable)</code> is used to find the data type of given variable"
   ]
  },
  {
   "cell_type": "code",
   "execution_count": 1,
   "metadata": {},
   "outputs": [
    {
     "name": "stdout",
     "output_type": "stream",
     "text": [
      "Value: 100000000000000000000000000000000000000000000000000 | Type : <class 'int'>\n"
     ]
    }
   ],
   "source": [
    "x=100000000000000000000000000000000000000000000000000\n",
    "print(\"Value:\",x,\"| Type :\", type(x))"
   ]
  },
  {
   "cell_type": "markdown",
   "metadata": {},
   "source": [
    "By default python treats the sequence of digits with no prifix as decimal number<br>\n",
    "Various prefix are provided to represent number of different base. <br>\n",
    "List of prefix are as follows:<br>\n",
    "- <b>0b</b> or <b>0B </b> denotes Binary number (base 2)\n",
    "- <b>0o</b> or <b>0O </b> denotes Octal number (base 8)\n",
    "- <b>0x</b> or <b>0X </b> denotes Hexadecimal number (base 6)"
   ]
  },
  {
   "cell_type": "code",
   "execution_count": 2,
   "metadata": {},
   "outputs": [
    {
     "name": "stdout",
     "output_type": "stream",
     "text": [
      "Decimal Value = 50 Type= <class 'int'>\n",
      "Binary Value = 50 Type= <class 'int'>\n",
      "Octal Value = 50 Type= <class 'int'>\n",
      "Hexadecimal Value = 50 Type= <class 'int'>\n"
     ]
    }
   ],
   "source": [
    "decimal_x=50\n",
    "binary_x=0b110010\n",
    "octal_x=0o62\n",
    "hexadecimal_x=0x32\n",
    "print(\"Decimal Value =\",decimal_x,\"Type=\",type(decimal_x))\n",
    "print(\"Binary Value =\",binary_x,\"Type=\",type(binary_x))\n",
    "print(\"Octal Value =\",octal_x,\"Type=\",type(octal_x))\n",
    "print(\"Hexadecimal Value =\",hexadecimal_x,\"Type=\",type(hexadecimal_x))"
   ]
  },
  {
   "cell_type": "markdown",
   "metadata": {},
   "source": [
    "we can directly perform arithmatic operation on differnt number system"
   ]
  },
  {
   "cell_type": "code",
   "execution_count": 3,
   "metadata": {},
   "outputs": [
    {
     "data": {
      "text/plain": [
       "200"
      ]
     },
     "execution_count": 3,
     "metadata": {},
     "output_type": "execute_result"
    }
   ],
   "source": [
    "decimal_x+binary_x+octal_x+hexadecimal_x"
   ]
  },
  {
   "cell_type": "markdown",
   "metadata": {},
   "source": [
    "we have variuos inbuilt funtions <b>bin()</b>, <b>oct()</b> and <b>hex()</b> to convert the given decimal number into Binary, Octal and Hexadecimal number system respectively"
   ]
  },
  {
   "cell_type": "code",
   "execution_count": 4,
   "metadata": {},
   "outputs": [
    {
     "name": "stdout",
     "output_type": "stream",
     "text": [
      "Value of x= 50\n",
      "Binary Value of x= 0b110010\n",
      "Octal Value of x= 0o62\n",
      "Hexadecimal Value of x= 0x32\n"
     ]
    }
   ],
   "source": [
    "x=50\n",
    "print(\"Value of x=\",x)\n",
    "print(\"Binary Value of x=\", bin(x) )\n",
    "print(\"Octal Value of x=\", oct(x) )\n",
    "print(\"Hexadecimal Value of x=\", hex(x) )"
   ]
  },
  {
   "cell_type": "markdown",
   "metadata": {},
   "source": [
    "**int()** can be used to covert other format into decimal by providing proper base value"
   ]
  },
  {
   "cell_type": "code",
   "execution_count": 5,
   "metadata": {},
   "outputs": [
    {
     "name": "stdout",
     "output_type": "stream",
     "text": [
      "Binary x=0b101 is equivalent to Decimal x=5\n"
     ]
    }
   ],
   "source": [
    "binary_x='0b101'\n",
    "decimal_x=int(binary_x,2)\n",
    "print(f\"Binary x={binary_x} is equivalent to Decimal x={decimal_x}\")"
   ]
  },
  {
   "cell_type": "markdown",
   "metadata": {},
   "source": [
    "<a id='float'></a>\n",
    "## float\n",
    "float values are specified with a decimal point. Optionally, the character e or E followed by a positive or negative integer may be appended to specify scientific notation."
   ]
  },
  {
   "cell_type": "code",
   "execution_count": 6,
   "metadata": {},
   "outputs": [
    {
     "name": "stdout",
     "output_type": "stream",
     "text": [
      "Value: 5.034 | Type : <class 'float'>\n"
     ]
    }
   ],
   "source": [
    "x=5.034\n",
    "print(\"Value:\",x,\"| Type :\", type(x))"
   ]
  },
  {
   "cell_type": "code",
   "execution_count": 7,
   "metadata": {},
   "outputs": [
    {
     "name": "stdout",
     "output_type": "stream",
     "text": [
      "Value: 5.034 | Type : <class 'float'>\n"
     ]
    }
   ],
   "source": [
    "x=.5034e1\n",
    "print(\"Value:\",x,\"| Type :\", type(x))"
   ]
  },
  {
   "cell_type": "markdown",
   "metadata": {},
   "source": [
    "<a id='complex'></a>\n",
    "## complex\n",
    "Complex numbers are specified as \n",
    "```python\n",
    "<real_part> + <imaginary_part>j\n",
    "```"
   ]
  },
  {
   "cell_type": "code",
   "execution_count": 8,
   "metadata": {},
   "outputs": [
    {
     "name": "stdout",
     "output_type": "stream",
     "text": [
      "Value: (3+5j) | Type : <class 'complex'>\n"
     ]
    }
   ],
   "source": [
    "x=3+5j\n",
    "print(\"Value:\",x,\"| Type :\", type(x))"
   ]
  },
  {
   "cell_type": "code",
   "execution_count": 9,
   "metadata": {},
   "outputs": [
    {
     "data": {
      "text/plain": [
       "(5.0, 3.0, (3-5j))"
      ]
     },
     "execution_count": 9,
     "metadata": {},
     "output_type": "execute_result"
    }
   ],
   "source": [
    "x.imag , x.real , x.conjugate()"
   ]
  },
  {
   "cell_type": "markdown",
   "metadata": {},
   "source": [
    "To check whether a variable belongs to a specific data type we can use ininstance()\n",
    "``` python\n",
    "isinstance(object,type)\n",
    "```\n",
    "This function returns Ture if object belongs to type data type"
   ]
  },
  {
   "cell_type": "code",
   "execution_count": 10,
   "metadata": {},
   "outputs": [
    {
     "data": {
      "text/plain": [
       "True"
      ]
     },
     "execution_count": 10,
     "metadata": {},
     "output_type": "execute_result"
    }
   ],
   "source": [
    "# is x is of type complex\n",
    "isinstance(x,complex) "
   ]
  },
  {
   "cell_type": "markdown",
   "metadata": {},
   "source": [
    "----\n",
    "<a id='Boolean'></a>\n",
    "<img src=\"images/bool.PNG\" style=\"float: right;\"  width=200 height=200 />\n",
    "##  Boolean \n",
    "Booleans represent one of two values: <b>True</b> or <b>False</b><br>\n",
    "we can evaluate any expression in Python, and get one of two answers, True or False"
   ]
  },
  {
   "cell_type": "code",
   "execution_count": 11,
   "metadata": {},
   "outputs": [
    {
     "name": "stdout",
     "output_type": "stream",
     "text": [
      "Value: True | Type : <class 'bool'>\n",
      "Expression 1  True\n",
      "Expression 2  False\n"
     ]
    }
   ],
   "source": [
    "flag=True\n",
    "print(\"Value:\",flag,\"| Type :\", type(flag))\n",
    "\n",
    "print(\"Expression 1 \", 42 > 30)\n",
    "print(\"Expression 2 \", 2 > 4)"
   ]
  },
  {
   "cell_type": "markdown",
   "metadata": {},
   "source": [
    "----\n",
    "<a id='List'></a> <img src=\"images\\list.png\" style=\"float: right;\"  width=350 height=350 />\n",
    "# List \n",
    "Lists are used to store multiple elements of different types in a single variable<br>\n",
    "List is <b>Mutable</b> i.e. their value can be altered once declared<br>\n",
    "List are <b>Ordered </b> based on index and the starting index is 0<br>\n",
    "List can have <b>Duplicate Values</b><br>\n",
    "\n",
    "<code>len(sequence)</code> can be used to find the length of any sequence data type such as list, tuple, set, dictionary, string"
   ]
  },
  {
   "cell_type": "markdown",
   "metadata": {},
   "source": [
    "<a id='Creating_List'></a>\n",
    "### Creating a List"
   ]
  },
  {
   "cell_type": "code",
   "execution_count": 12,
   "metadata": {},
   "outputs": [
    {
     "name": "stdout",
     "output_type": "stream",
     "text": [
      "Value = [] | Type = <class 'list'> | Length = 0\n"
     ]
    }
   ],
   "source": [
    "# defining an empty list\n",
    "my_list=[]\n",
    "print(\"Value =\",my_list,\"| Type =\",type(my_list),\"| Length =\" ,len(my_list))"
   ]
  },
  {
   "cell_type": "code",
   "execution_count": 13,
   "metadata": {},
   "outputs": [
    {
     "name": "stdout",
     "output_type": "stream",
     "text": [
      "Value = ['apple', 56, 2.3, False, 'foo', 22, (3+5j)] | Type = <class 'list'> | Length = 7\n"
     ]
    }
   ],
   "source": [
    "my_list=[\"apple\", 56 , 2.3 ,False,\"foo\",22,3+5j]\n",
    "print(\"Value =\",my_list,\"| Type =\",type(my_list),\"| Length =\" ,len(my_list))"
   ]
  },
  {
   "cell_type": "markdown",
   "metadata": {},
   "source": [
    "<a id='Accessing_List'></a>\n",
    "### Accessing List Elements\n",
    "List elements can be accessed using these methods :\n",
    "- <code>list[i]</code>   returns the value at ith index\n",
    "- <code>list[-i]</code>  returns the value of ith element from the end or  (list_length - i)th index element from the start\n",
    "- <code>list[:]</code>   returns all the values from list\n",
    "- <code>list[i:j]</code> returns the list of values from index i to index j-1\n",
    "- <code>list[:j]</code>  returns the list of values from 0th index to index j-1\n",
    "- <code>list[i:]</code>  returns the list of values from index i to last element of the list \n",
    "- <code>list[i:j:c]</code> returns every cth element from index i to index j-1 of the list\n",
    "- <code>list[i:j:-c]</code> returns every cth element from index j-1 to index i of the list in reverse order, here i>j\n",
    "\n",
    "List have valid index from 0 to len_list-1, trying to access indexes other than these will raise error mentioned bellow\n",
    "```python \n",
    "IndexError: list index out of range \n",
    "```"
   ]
  },
  {
   "cell_type": "code",
   "execution_count": 14,
   "metadata": {},
   "outputs": [
    {
     "name": "stdout",
     "output_type": "stream",
     "text": [
      "Value at 2nd index = 2\n",
      "Value at 3rd last element = 8\n",
      "Value from 0th index upto 2nd index = [0, 1]\n",
      "Value from 5th last element upto 5th index = [6, 7]\n",
      "Value from 0th index upto 3rd index = [0, 1, 2]\n",
      "Value from 2nd index to last element = [2, 3, 4, 5, 6, 7, 8, 9, 10]\n",
      "Value every 2nd element from list = [0, 2, 4, 6, 8, 10]\n",
      "Value every element from list starting from last = [10, 9, 8, 7, 6, 5, 4, 3, 2, 1, 0]\n"
     ]
    }
   ],
   "source": [
    "my_list=[0,1,2,3,4,5,6,7,8,9,10]\n",
    "\n",
    "print(\"Value at 2nd index =\", my_list[2])\n",
    "print(\"Value at 3rd last element =\", my_list[-3])\n",
    "print(\"Value from 0th index upto 2nd index =\", my_list[0:2])\n",
    "print(\"Value from 5th last element upto 5th index =\", my_list[-5:8])\n",
    "print(\"Value from 0th index upto 3rd index =\", my_list[:3])\n",
    "print(\"Value from 2nd index to last element =\", my_list[2:])\n",
    "print(\"Value every 2nd element from list =\", my_list[::2])\n",
    "print(\"Value every element from list starting from last =\", my_list[::-1])"
   ]
  },
  {
   "cell_type": "code",
   "execution_count": 15,
   "metadata": {},
   "outputs": [
    {
     "name": "stdout",
     "output_type": "stream",
     "text": [
      "one\n",
      "two\n",
      "three\n",
      "four\n",
      "five\n"
     ]
    }
   ],
   "source": [
    "#list of first five numbers\n",
    "numbers=[\"one\",\"two\",\"three\",\"four\",\"five\"]\n",
    "\n",
    "#iterating through each number present in numbers list using for loop\n",
    "for number in numbers:\n",
    "    print(number)"
   ]
  },
  {
   "cell_type": "markdown",
   "metadata": {},
   "source": [
    "<a id='Accessing_List_Index'></a>\n",
    "### Accessing the Index of an Element in the List\n",
    "<code>list.index(element)</code> returns the index of the first matched element<br>\n",
    "Trying to access index of an element which is not present in the list will result into this error:\n",
    "```python \n",
    "ValueError: element is not in list\n",
    "```"
   ]
  },
  {
   "cell_type": "code",
   "execution_count": 16,
   "metadata": {},
   "outputs": [
    {
     "data": {
      "text/plain": [
       "4"
      ]
     },
     "execution_count": 16,
     "metadata": {},
     "output_type": "execute_result"
    }
   ],
   "source": [
    "my_list=[\"apple\", 56 , 2.3 ,False,\"foo\"]\n",
    "my_list.index(\"foo\")"
   ]
  },
  {
   "cell_type": "markdown",
   "metadata": {},
   "source": [
    "<a id='Updating_List'></a>\n",
    "### Updating a List\n",
    "List of  elements can be update using these methods :\n",
    "- <code>list[i]=new_value</code>  update the value of ith index with new_value\n",
    "- <code>list[i:j]=new_value_sub_list </code> update the value of index i to index j-1 by the value of new_value_sub_list whole size is j-i\n"
   ]
  },
  {
   "cell_type": "code",
   "execution_count": 17,
   "metadata": {
    "scrolled": true
   },
   "outputs": [
    {
     "name": "stdout",
     "output_type": "stream",
     "text": [
      "List values before updation  ['apple', 56, 2.3, False, 'foo']\n",
      "List values after updation  ['apple', 56, 2.3, 'new value', 'foo']\n"
     ]
    }
   ],
   "source": [
    "print(\"List values before updation \",my_list)\n",
    "my_list[3]=\"new value\"  # updating the 3rd index value\n",
    "print(\"List values after updation \",my_list)"
   ]
  },
  {
   "cell_type": "code",
   "execution_count": 18,
   "metadata": {},
   "outputs": [
    {
     "name": "stdout",
     "output_type": "stream",
     "text": [
      "List values before updation  ['apple', 56, 2.3, 'new value', 'foo']\n",
      "List values after updation  ['apple', 56, 'boo', 98, 4.4]\n"
     ]
    }
   ],
   "source": [
    "print(\"List values before updation \",my_list)\n",
    "my_list[2:5]=[\"boo\",98,4.4] # updating the values from 2nd index to 4th index\n",
    "print(\"List values after updation \",my_list)"
   ]
  },
  {
   "cell_type": "markdown",
   "metadata": {},
   "source": [
    "<a id='Inserting_List'></a>\n",
    "### Inserting Elements to the List\n",
    "Elements can be inserted into the list by using these methods :\n",
    "- <code>list.append(element)</code>  Add element to the end of the list. Equivalent to <code>list[len(list):] = [element]</code>\n",
    "- <code>list.extend(iterable_object) </code> Add all the elements of iterable_object (set,list,tuple,dictionaries) at the end of the list. . Equivalent to <code>list[len(list):] = [iterable_object]</code>\n",
    "- <code>list.insert(i,element)</code>  Insert element at ith index of list\n"
   ]
  },
  {
   "cell_type": "code",
   "execution_count": 19,
   "metadata": {},
   "outputs": [
    {
     "name": "stdout",
     "output_type": "stream",
     "text": [
      "List value becomes  [1, 2, 3]\n",
      "List value becomes  [1, 2, 3, 4, 5, 6]\n",
      "List value becomes  [1, 2, 'new', 3, 4, 5, 6]\n"
     ]
    }
   ],
   "source": [
    " # creating an empty list\n",
    "my_list=[] \n",
    "\n",
    "#adding new value to the end of the list\n",
    "my_list.append(1)\n",
    "my_list.append(2)\n",
    "my_list.append(3)\n",
    "print(\"List value becomes \", my_list)\n",
    "\n",
    "#adding lists of values\n",
    "my_list.extend([4,5,6])\n",
    "print(\"List value becomes \", my_list)\n",
    "\n",
    "#inserting \"new\" in the list\n",
    "my_list.insert(2,\"new\")\n",
    "print(\"List value becomes \", my_list)"
   ]
  },
  {
   "cell_type": "code",
   "execution_count": 20,
   "metadata": {},
   "outputs": [
    {
     "data": {
      "text/plain": [
       "[]"
      ]
     },
     "execution_count": 20,
     "metadata": {},
     "output_type": "execute_result"
    }
   ],
   "source": [
    "a=[1,2,3]\n",
    "a[len(a):]"
   ]
  },
  {
   "cell_type": "markdown",
   "metadata": {},
   "source": [
    "<a id='Deleting_List'></a>\n",
    "### Deleting Elemets from the List\n",
    "Elemets can be deleted into the list by using these methods :\n",
    "- <code>list.pop(i)</code>  Removes ith index element from the list, if no index is provided than by default last element is removed\n",
    "- <code>list.remove(element) </code> Removes the given element from the list. It raises a ValueError if there is no such item\n",
    "- <code>list.clear()</code>  Removes all the elements from list. Equivalent to <code>del list[:]</code>\n",
    "- <code>del list[i]</code>  Removes ith index element\n",
    "- <code>del list[i:j]</code>  Removes all the element from ith index to (j-1)th index element"
   ]
  },
  {
   "cell_type": "code",
   "execution_count": 21,
   "metadata": {},
   "outputs": [
    {
     "name": "stdout",
     "output_type": "stream",
     "text": [
      "List value becomes  [1, 2, 3, 4, 5, 6, 7, 8, 9, 10, 11, 12, 13, 14]\n",
      "List value becomes  [1, 2, 3, 5, 6, 7, 8, 9, 10, 11, 12, 13, 14]\n",
      "List value becomes  [1, 3, 5, 6, 7, 8, 9, 10, 11, 12, 13, 14]\n",
      "List value becomes  [1, 3, 6, 7, 8, 9, 10, 11, 12, 13, 14]\n",
      "List value becomes  [1, 3, 6, 11, 12, 13, 14]\n",
      "List value becomes  []\n"
     ]
    }
   ],
   "source": [
    "my_list=[1,2,3,4,5,6,7,8,9,10,11,12,13,14,15]\n",
    "\n",
    "# removing top element from list\n",
    "my_list.pop()\n",
    "print(\"List value becomes \", my_list)\n",
    "\n",
    "# removing 3rd index element from list\n",
    "my_list.pop(3)\n",
    "print(\"List value becomes \", my_list)\n",
    "\n",
    "# removing element with value 2 from list\n",
    "my_list.remove(2)\n",
    "print(\"List value becomes \", my_list)\n",
    "\n",
    "# removing 2nd index element from list\n",
    "del my_list[2]\n",
    "print(\"List value becomes \", my_list)\n",
    "\n",
    "# removing elemsts from 3rd index to 6th index element\n",
    "del my_list[3:7]\n",
    "print(\"List value becomes \", my_list)\n",
    "\n",
    "\n",
    "#removing all the elements from list\n",
    "my_list.clear()\n",
    "print(\"List value becomes \", my_list)"
   ]
  },
  {
   "cell_type": "markdown",
   "metadata": {},
   "source": [
    "<a id='Miscellaneous_Functions_List'></a>\n",
    "### Miscellaneous Functions\n",
    "- <code>list.count(element)</code> Returns the number of occurrences of element in the list\n",
    "- <code>list.reverse() </code> Inplace reverse the given list.\n",
    "- <code>list.sort()</code>  sort the elements of the list , to sort in decending order this method uses reverse=True argument"
   ]
  },
  {
   "cell_type": "code",
   "execution_count": 22,
   "metadata": {},
   "outputs": [
    {
     "name": "stdout",
     "output_type": "stream",
     "text": [
      "Number of time 4 is present in list = 3\n",
      "Number of time 9 is present in list = 0\n"
     ]
    }
   ],
   "source": [
    "my_list=[1,5,2,6,8,4,2,11,1,4,7,2,4]\n",
    "\n",
    "print(\"Number of time 4 is present in list =\",my_list.count(4))\n",
    "print(\"Number of time 9 is present in list =\",my_list.count(9))"
   ]
  },
  {
   "cell_type": "code",
   "execution_count": 23,
   "metadata": {},
   "outputs": [
    {
     "name": "stdout",
     "output_type": "stream",
     "text": [
      "Before reverse  [1, 5, 2, 6, 8, 4, 2, 11, 1, 4, 7, 2, 4]\n",
      "After reverse  [4, 2, 7, 4, 1, 11, 2, 4, 8, 6, 2, 5, 1]\n"
     ]
    }
   ],
   "source": [
    "print(\"Before reverse \",my_list)\n",
    "my_list.reverse() # reversing the list\n",
    "print(\"After reverse \",my_list)"
   ]
  },
  {
   "cell_type": "code",
   "execution_count": 24,
   "metadata": {},
   "outputs": [
    {
     "name": "stdout",
     "output_type": "stream",
     "text": [
      "Before sort  [4, 2, 7, 4, 1, 11, 2, 4, 8, 6, 2, 5, 1]\n",
      "After sort in ascending order  [1, 1, 2, 2, 2, 4, 4, 4, 5, 6, 7, 8, 11]\n"
     ]
    }
   ],
   "source": [
    "print(\"Before sort \",my_list)\n",
    "my_list.sort() # sorting the list in ascending order\n",
    "print(\"After sort in ascending order \",my_list)"
   ]
  },
  {
   "cell_type": "code",
   "execution_count": 25,
   "metadata": {},
   "outputs": [
    {
     "name": "stdout",
     "output_type": "stream",
     "text": [
      "Before sort  [1, 1, 2, 2, 2, 4, 4, 4, 5, 6, 7, 8, 11]\n",
      "After sort in descending order  [11, 8, 7, 6, 5, 4, 4, 4, 2, 2, 2, 1, 1]\n"
     ]
    }
   ],
   "source": [
    "print(\"Before sort \",my_list)\n",
    "my_list.sort(reverse=True) # sorting the list in descending order\n",
    "print(\"After sort in descending order \",my_list)"
   ]
  },
  {
   "cell_type": "markdown",
   "metadata": {},
   "source": [
    "<a id='Copying_List'></a>\n",
    "### Copying  Lists\n",
    "If copy the content of a list into new list by using \"=\" assignment operator then only refrenced is copied and the changes made to new list would reflect the change in old list<br>\n",
    "In some scenerio we might want this but if we don't want to reflect the changes of new list into old list then in that case we can use <code>list.copy()</code> which returns shallow copy of the list and hence the changes in new list doesn't affects the content of old list.\n",
    "\n",
    "<code>list.copy()</code> is equivalent to <code>list[:]</code>"
   ]
  },
  {
   "cell_type": "code",
   "execution_count": 26,
   "metadata": {},
   "outputs": [
    {
     "name": "stdout",
     "output_type": "stream",
     "text": [
      "changes are made in new_list\n",
      "new_list is same as my_list\n",
      "new_list values are  ['1st', 2, 3, 4, 5, 6, 7, 8, 9, 10, 11, 12, 13, 14, 'last']\n",
      "my_list values are  ['1st', 2, 3, 4, 5, 6, 7, 8, 9, 10, 11, 12, 13, 14, 'last']\n"
     ]
    }
   ],
   "source": [
    "my_list=[1,2,3,4,5,6,7,8,9,10,11,12,13,14,15]\n",
    "\n",
    "#list is copied using assignment operator\n",
    "new_list=my_list\n",
    "\n",
    "#changes are made in new_list\n",
    "new_list[0]=\"1st\"\n",
    "new_list[-1]=\"last\"\n",
    "print(\"changes are made in new_list\")\n",
    "\n",
    "if my_list == new_list:\n",
    "    print(\"new_list is same as my_list\")\n",
    "else:\n",
    "    print(\"new_list is not same as my_list\")\n",
    "    \n",
    "print(\"new_list values are \",new_list)\n",
    "print(\"my_list values are \",my_list)"
   ]
  },
  {
   "cell_type": "code",
   "execution_count": 27,
   "metadata": {},
   "outputs": [
    {
     "name": "stdout",
     "output_type": "stream",
     "text": [
      "changes are made in new_list\n",
      "new_list is not same as my_list\n",
      "new_list values are  ['1st', 2, 3, 4, 5, 6, 7, 8, 9, 10, 11, 12, 13, 14, 'last']\n",
      "my_list values are  [1, 2, 3, 4, 5, 6, 7, 8, 9, 10, 11, 12, 13, 14, 15]\n"
     ]
    }
   ],
   "source": [
    "my_list=[1,2,3,4,5,6,7,8,9,10,11,12,13,14,15]\n",
    "\n",
    "#list is copied using list.copy()\n",
    "new_list=my_list.copy()\n",
    "\n",
    "#changes are made in new_list\n",
    "new_list[0]=\"1st\"\n",
    "new_list[-1]=\"last\"\n",
    "print(\"changes are made in new_list\")\n",
    "\n",
    "if my_list == new_list:\n",
    "    print(\"new_list is same as my_list\")\n",
    "else:\n",
    "    print(\"new_list is not same as my_list\")\n",
    "    \n",
    "print(\"new_list values are \",new_list)\n",
    "\n",
    "print(\"my_list values are \",my_list)"
   ]
  },
  {
   "cell_type": "markdown",
   "metadata": {},
   "source": [
    "<a id='Arithmetic_List'></a>\n",
    "### Arithmetic Operation on Lists\n",
    "- <code>list1 + list2</code>  Plus operation between two list represents concatination of the two list\n",
    "-  <code>list * int</code>  Multiplication between a list and an int represents repetation of the list for n number of time where n in value of int"
   ]
  },
  {
   "cell_type": "code",
   "execution_count": 28,
   "metadata": {},
   "outputs": [
    {
     "name": "stdout",
     "output_type": "stream",
     "text": [
      "[1, 2, 3, 'one', 'two', 'three']\n"
     ]
    }
   ],
   "source": [
    "l1=[1,2,3]\n",
    "l2=[\"one\",\"two\",\"three\"]\n",
    "\n",
    "#concatination of two list\n",
    "new_list=l1+l2\n",
    "\n",
    "print(new_list)"
   ]
  },
  {
   "cell_type": "code",
   "execution_count": 29,
   "metadata": {},
   "outputs": [
    {
     "name": "stdout",
     "output_type": "stream",
     "text": [
      "['one', 'two', 'three', 'one', 'two', 'three', 'one', 'two', 'three']\n"
     ]
    }
   ],
   "source": [
    "my_list=[\"one\",\"two\",\"three\"]\n",
    "\n",
    "# repeats a list for the 3 times\n",
    "new_list=my_list*3\n",
    "print(new_list)"
   ]
  },
  {
   "cell_type": "markdown",
   "metadata": {},
   "source": [
    "<a id='List_Membership'></a>\n",
    "### List Membership\n",
    "We already saw that we can use <code>list.index(element)</code> to check whether an element is present in the list or not. If element is memeber of list then index is its return otherwise we will get ValueError. To handle the case when element is not present we have to use error handling technique if we are using <code>list.index(element)</code> which is a bit tideous task<br><br>\n",
    "To avoid this we have an inbuilt membership operator <b>in</b>. We can use this operator like <code>element in list</code> and this expression will return True if element is present in the list otherwise False is return."
   ]
  },
  {
   "cell_type": "code",
   "execution_count": 30,
   "metadata": {},
   "outputs": [
    {
     "name": "stdout",
     "output_type": "stream",
     "text": [
      "Not a Member\n"
     ]
    }
   ],
   "source": [
    "# membership opration using list.index(element)\n",
    "my_list=[\"one\",\"two\",\"three\"]\n",
    "\n",
    "element=\"four\"\n",
    "    \n",
    "try:\n",
    "    my_list.index(element)\n",
    "    print(\"Member\")\n",
    "except ValueError:\n",
    "    print(\"Not a Member\")"
   ]
  },
  {
   "cell_type": "code",
   "execution_count": 31,
   "metadata": {},
   "outputs": [
    {
     "name": "stdout",
     "output_type": "stream",
     "text": [
      "Not a Member\n"
     ]
    }
   ],
   "source": [
    "my_list=[\"one\",\"two\",\"three\"]\n",
    "\n",
    "element=\"four\"\n",
    "\n",
    "if element in my_list:\n",
    "    print(\"Member\")\n",
    "else:\n",
    "    print(\"Not a Member\")"
   ]
  },
  {
   "cell_type": "markdown",
   "metadata": {},
   "source": [
    "<a id='Comprehension_List'></a>\n",
    "### List Comprehension\n",
    "List Comprehension offers a shorter syntax when you want to create a new list based on the values of an existing list.\n",
    "```python \n",
    "new_list = [expression for member in iterable] \n",
    "```\n",
    "where \n",
    "- <i>expression </i> is the member itself, a call to a method, or any other valid expression that returns a value\n",
    "- <i>member</i> is the object or value in the list or iterable\n",
    "- <i>iterable</i> is a list, set, sequence, generator, or any other object that can return its elements one at a time\n"
   ]
  },
  {
   "cell_type": "code",
   "execution_count": 32,
   "metadata": {},
   "outputs": [
    {
     "data": {
      "text/plain": [
       "[2, 4, 6, 8, 10, 12, 14, 16, 18, 20]"
      ]
     },
     "execution_count": 32,
     "metadata": {},
     "output_type": "execute_result"
    }
   ],
   "source": [
    "# creating new list using traditional for loop\n",
    "new_list=[]\n",
    "old_list=[1,2,3,4,5,6,7,8,9,10]\n",
    "\n",
    "for element in old_list:\n",
    "    new_list.append(2*element)\n",
    "    \n",
    "new_list"
   ]
  },
  {
   "cell_type": "code",
   "execution_count": 33,
   "metadata": {},
   "outputs": [
    {
     "data": {
      "text/plain": [
       "[2, 4, 6, 8, 10, 12, 14, 16, 18, 20]"
      ]
     },
     "execution_count": 33,
     "metadata": {},
     "output_type": "execute_result"
    }
   ],
   "source": [
    "# using lambda funtions\n",
    "new_list=list(map(lambda x: x*2, old_list))\n",
    "\n",
    "new_list"
   ]
  },
  {
   "cell_type": "markdown",
   "metadata": {},
   "source": [
    "## Map"
   ]
  },
  {
   "cell_type": "code",
   "execution_count": null,
   "metadata": {},
   "outputs": [],
   "source": []
  },
  {
   "cell_type": "code",
   "execution_count": 34,
   "metadata": {},
   "outputs": [
    {
     "data": {
      "text/plain": [
       "[2, 4, 6, 8, 10, 12, 14, 16, 18, 20]"
      ]
     },
     "execution_count": 34,
     "metadata": {},
     "output_type": "execute_result"
    }
   ],
   "source": [
    "# using list comprihension\n",
    "new_list=[2*element for element in old_list]\n",
    "\n",
    "new_list"
   ]
  },
  {
   "cell_type": "markdown",
   "metadata": {},
   "source": [
    "We can have simple <b>If</b> as well as <b>Nested If</b> statements with List Comprehension to apply various filters to select values for new list \n",
    "```python \n",
    "new_list = [expression for member in iterable if conditional_logic_1  if conditional_logic_n ] \n",
    "```"
   ]
  },
  {
   "cell_type": "code",
   "execution_count": 35,
   "metadata": {},
   "outputs": [
    {
     "data": {
      "text/plain": [
       "[0, 2, 4, 6, 8, 10, 12, 14, 16, 18]"
      ]
     },
     "execution_count": 35,
     "metadata": {},
     "output_type": "execute_result"
    }
   ],
   "source": [
    "# creating a list which contains all even number from 0 to 20\n",
    "new_list=[number for number in range(20) if number%2 ==0]\n",
    "\n",
    "new_list"
   ]
  },
  {
   "cell_type": "code",
   "execution_count": 36,
   "metadata": {},
   "outputs": [
    {
     "data": {
      "text/plain": [
       "[0, 15, 30, 45, 60, 75, 90]"
      ]
     },
     "execution_count": 36,
     "metadata": {},
     "output_type": "execute_result"
    }
   ],
   "source": [
    "# creating a list which contains all number which are divisible by 3 and 5 from 0 to 100\n",
    "new_list=[number for number in range(100) if number%3 ==0 if number%5==0]\n",
    "\n",
    "new_list"
   ]
  },
  {
   "cell_type": "markdown",
   "metadata": {},
   "source": [
    "We can have simple <b>If Else</b> statements with List Comprehension to to select from multiple possible output options\n",
    "```python \n",
    "new_list = [expression_if_logic_is_true if conditional_logic else expression_if_logic_is_false for member in iterable  ] \n",
    "```"
   ]
  },
  {
   "cell_type": "code",
   "execution_count": 37,
   "metadata": {},
   "outputs": [
    {
     "data": {
      "text/plain": [
       "['+ve', '-ve', '+ve', '-ve', '-ve', '+ve', '+ve', '-ve', '+ve', '+ve', '-ve']"
      ]
     },
     "execution_count": 37,
     "metadata": {},
     "output_type": "execute_result"
    }
   ],
   "source": [
    "# filterring out +ve data from a list\n",
    "my_list=[12,-4,5,-2,-6,23,33,-2,34,5,-7]\n",
    "\n",
    "new_list=[\"+ve\" if number>=0  else \"-ve\" for number in my_list ]\n",
    "\n",
    "new_list"
   ]
  },
  {
   "cell_type": "markdown",
   "metadata": {},
   "source": [
    "<b>Nested Loops</b> can be used in List Comprehension.\n",
    "```python \n",
    "new_list = [ [elements for in member] for member in iterable  ] \n",
    "```"
   ]
  },
  {
   "cell_type": "code",
   "execution_count": 38,
   "metadata": {},
   "outputs": [
    {
     "data": {
      "text/plain": [
       "[['P', 'y', 't', 'h', 'o', 'n'],\n",
       " ['i', 's'],\n",
       " ['e', 'n', 'g', 'l', 'i', 's', 'h'],\n",
       " ['l', 'i', 'k', 'e'],\n",
       " ['l', 'a', 'n', 'g', 'u', 'a', 'g', 'e']]"
      ]
     },
     "execution_count": 38,
     "metadata": {},
     "output_type": "execute_result"
    }
   ],
   "source": [
    "#expanding list of string\n",
    "my_list=[\"Python\",\"is\",\"english\",\"like\", \"language\"]\n",
    "\n",
    "new_list=[ [letter for letter in word] for word in my_list  ] \n",
    "\n",
    "new_list"
   ]
  },
  {
   "cell_type": "code",
   "execution_count": 39,
   "metadata": {},
   "outputs": [
    {
     "name": "stdout",
     "output_type": "stream",
     "text": [
      "['P', 'y', 't', 'h', 'o', 'n', 'i', 's', 'e', 'n', 'g', 'l', 'i', 's', 'h', 'l', 'i', 'k', 'e', 'l', 'a', 'n', 'g', 'u', 'a', 'g', 'e']\n"
     ]
    }
   ],
   "source": [
    "#nested loop can be used to faltten a 2d matrix  [watch out the sequence of for loop]\n",
    "flattened_list=[letter for word in my_list for letter in word ]\n",
    "\n",
    "print(flattened_list)"
   ]
  },
  {
   "cell_type": "code",
   "execution_count": 40,
   "metadata": {},
   "outputs": [
    {
     "name": "stdout",
     "output_type": "stream",
     "text": [
      "['P', 'y', 't', 'h', 'n', 's', 'n', 'g', 'l', 's', 'h', 'l', 'k', 'l', 'n', 'g', 'g']\n"
     ]
    }
   ],
   "source": [
    "# we can use conitional logic along with nested loop as well \n",
    "#removing all the vowels from the letters provided by my_list\n",
    "conditionally_flattened_list=[letter for word in my_list for letter in word if letter!='a' if letter!='e' if letter!='i' if letter!='o' if letter!='u' ]\n",
    "\n",
    "print(conditionally_flattened_list)"
   ]
  },
  {
   "cell_type": "markdown",
   "metadata": {},
   "source": [
    "----\n",
    "<a id='Tuple'></a>\n",
    "# Tuple \n",
    "Tuple are used to store multiple elements of different types in a single variable<br>\n",
    "Tuple is <b>Immutable</b> i.e. their value cannot be altered once declared. Since tuples are immutable, iterating through a tuple is faster than with list<br>\n",
    "Tuple are <b>Ordered </b> based on index and the starting index is 0<br>\n",
    "Tuple can have <b>Duplicate Values</b><br>\n",
    "\n",
    "Lists of reasons to use a tuple instead of a list:\n",
    "- Program execution is faster when manipulating a tuple than it is for the equivalent list. (This is probably not going to be noticeable when the list or tuple is small.)\n",
    "\n",
    "- Sometimes you don’t want data to be modified. If the values in the collection are meant to remain constant for the life of the program, using a tuple instead of a list guards against accidental modification.\n",
    "\n",
    "- Tuples contains immutable elements so it can be used as a key for a dictionary. With lists, this is not possible\n",
    "\n",
    "- We generally use tuples for heterogeneous (different) data types and lists for homogeneous (similar) data types\n",
    "\n",
    "- Tuples are used when we know in advanced the total number of elements to be stored"
   ]
  },
  {
   "cell_type": "markdown",
   "metadata": {},
   "source": [
    "<a id='Creating_Tuple'></a>\n",
    "### Creating a Tuple"
   ]
  },
  {
   "cell_type": "code",
   "execution_count": 41,
   "metadata": {},
   "outputs": [
    {
     "name": "stdout",
     "output_type": "stream",
     "text": [
      "Value = () | Type = <class 'tuple'> | Length = 0\n"
     ]
    }
   ],
   "source": [
    "# defining an empty tuple\n",
    "my_tuple=()\n",
    "print(\"Value =\",my_tuple,\"| Type =\",type(my_tuple),\"| Length =\" ,len(my_tuple))"
   ]
  },
  {
   "cell_type": "code",
   "execution_count": 42,
   "metadata": {},
   "outputs": [
    {
     "name": "stdout",
     "output_type": "stream",
     "text": [
      "Value = ('apple', 56, 2.3, False, 'foo', 22, (3+5j)) | Type = <class 'tuple'> | Length = 7\n"
     ]
    }
   ],
   "source": [
    "my_tuple=(\"apple\", 56 , 2.3 ,False,\"foo\",22,3+5j)\n",
    "print(\"Value =\",my_tuple,\"| Type =\",type(my_tuple),\"| Length =\" ,len(my_tuple))"
   ]
  },
  {
   "cell_type": "markdown",
   "metadata": {},
   "source": [
    "A tuple can also be created without using parentheses. This is known as <b>Tuple Packing</b><br>\n",
    "Also we can tranfer the value of tuple directly to the variables which is known as <b>Tuple Unpacking</b><br>\n",
    "While unpacking the number of variables must match the number of values in the tuple, if not, you must use an asterix <b>*</b> to collect the remaining values as a list. If the asterix is added to another variable name than the last, Python will assign values to the variable until the number of values left matches the number of variables left."
   ]
  },
  {
   "cell_type": "code",
   "execution_count": 43,
   "metadata": {},
   "outputs": [
    {
     "data": {
      "text/plain": [
       "tuple"
      ]
     },
     "execution_count": 43,
     "metadata": {},
     "output_type": "execute_result"
    }
   ],
   "source": [
    "#packing a list of value to create a tuple\n",
    "my_tuple=\"one\",\"two\",\"three\"\n",
    "type(my_tuple)"
   ]
  },
  {
   "cell_type": "code",
   "execution_count": 44,
   "metadata": {},
   "outputs": [
    {
     "data": {
      "text/plain": [
       "('one', 'two', 'three')"
      ]
     },
     "execution_count": 44,
     "metadata": {},
     "output_type": "execute_result"
    }
   ],
   "source": [
    "#unpacking the values of tuple\n",
    "a,b,c=my_tuple\n",
    "a,b,c"
   ]
  },
  {
   "cell_type": "code",
   "execution_count": 45,
   "metadata": {},
   "outputs": [
    {
     "data": {
      "text/plain": [
       "(0, 1, [2, 3, 4, 5, 6, 7, 8, 9, 10])"
      ]
     },
     "execution_count": 45,
     "metadata": {},
     "output_type": "execute_result"
    }
   ],
   "source": [
    "#unpacking the values of tuple with unequal number of variables \n",
    "my_tuple=(0,1,2,3,4,5,6,7,8,9,10)\n",
    "\n",
    "a,b,*c=my_tuple\n",
    "a,b,c"
   ]
  },
  {
   "cell_type": "code",
   "execution_count": 46,
   "metadata": {},
   "outputs": [
    {
     "data": {
      "text/plain": [
       "(0, [1, 2, 3, 4, 5, 6, 7, 8, 9], 10)"
      ]
     },
     "execution_count": 46,
     "metadata": {},
     "output_type": "execute_result"
    }
   ],
   "source": [
    "#unpacking the values of tuple with unequal number of variables \n",
    "my_tuple=(0,1,2,3,4,5,6,7,8,9,10)\n",
    "\n",
    "a,*b,c=my_tuple\n",
    "a,b,c"
   ]
  },
  {
   "cell_type": "markdown",
   "metadata": {},
   "source": [
    "If we use <code>tuple = (value) </code> to define a tuple with single value then in that case python gets confused that whether this is tuple defination or it is simply assignment operation of the given value with paranthesis denoting the precedence in an expressions. By default python treat it as simple assignment operation of given value.<br>\n",
    "\n",
    "So to define tuple with one element we have to use this syntax <code>tuple = (value,) </code>"
   ]
  },
  {
   "cell_type": "code",
   "execution_count": 47,
   "metadata": {},
   "outputs": [
    {
     "data": {
      "text/plain": [
       "str"
      ]
     },
     "execution_count": 47,
     "metadata": {},
     "output_type": "execute_result"
    }
   ],
   "source": [
    "#not a tuple bcz python treats it as simple assignment operation \n",
    "my_tuple=(\"one\")\n",
    "type(my_tuple)"
   ]
  },
  {
   "cell_type": "code",
   "execution_count": 48,
   "metadata": {},
   "outputs": [
    {
     "data": {
      "text/plain": [
       "tuple"
      ]
     },
     "execution_count": 48,
     "metadata": {},
     "output_type": "execute_result"
    }
   ],
   "source": [
    "#tuple defination with one element\n",
    "my_tuple=(\"one\",)\n",
    "type(my_tuple)"
   ]
  },
  {
   "cell_type": "code",
   "execution_count": 49,
   "metadata": {},
   "outputs": [
    {
     "data": {
      "text/plain": [
       "tuple"
      ]
     },
     "execution_count": 49,
     "metadata": {},
     "output_type": "execute_result"
    }
   ],
   "source": [
    "#tuple with one element using tuple packing\n",
    "my_tuple=\"one\",\n",
    "type(my_tuple)"
   ]
  },
  {
   "cell_type": "markdown",
   "metadata": {},
   "source": [
    "<a id='Accessing_Tuple'></a>\n",
    "### Accessing Tuple Elements\n",
    "Tuple elements can be accessed using these methods :\n",
    "- <code>tuple.index(i)</code>   returns the value at ith index, value of i lies between 0 to tuple_length-1\n",
    "- <code>tuple[i]</code>   returns the value at ith index\n",
    "- <code>tuple[-i]</code>  returns the value of ith element from the end or (tuple_length - i)th index element from the start\n",
    "- <code>tuple[:]</code>   returns all the values from tuple\n",
    "- <code>tuple[i:j]</code> returns the list of values from index i to index j-1\n",
    "- <code>tuple[:j]</code>  returns the list of values from 0th index to index j-1\n",
    "- <code>tuple[i:]</code>  returns the list of values from index i to last element of the tuple\n",
    "- <code>tuple[i:j:c]</code> returns every cth element from index i to index j-1 of the tuple\n",
    "- <code>tuple[i:j:-c]</code> returns every cth element from index j-1 to index i of the tuple\n",
    "\n",
    "\n",
    "Tuple have valid index from 0 to tuple_length-1, trying to access indexes other than these will raise error mentioned bellow\n",
    "```python \n",
    "IndexError: tuple index out of range\n",
    "```"
   ]
  },
  {
   "cell_type": "code",
   "execution_count": 50,
   "metadata": {},
   "outputs": [
    {
     "name": "stdout",
     "output_type": "stream",
     "text": [
      "Value at 5nd index = 5\n",
      "Value at 2nd index = 2\n",
      "Value at 3rd last element = 8\n",
      "Value from 0th index upto 2nd index = (0, 1, 2, 3)\n",
      "Value from 5th last element upto 5th index = (6, 7)\n",
      "Value from 0th index upto 3rd index = (0, 1, 2)\n",
      "Value from 2nd index to last element = (2, 3, 4, 5, 6, 7, 8, 9, 10)\n",
      "Value every 2nd element from tuple = (0, 2, 4, 6, 8, 10)\n",
      "Value every element from tuple starting from last = (10, 9, 8, 7, 6, 5, 4, 3, 2, 1, 0)\n"
     ]
    }
   ],
   "source": [
    "my_tuple=(0,1,2,3,4,5,6,7,8,9,10)\n",
    "\n",
    "print(\"Value at 5nd index =\", my_tuple.index(5))\n",
    "print(\"Value at 2nd index =\", my_tuple[2])\n",
    "print(\"Value at 3rd last element =\", my_tuple[-3])\n",
    "print(\"Value from 0th index upto 2nd index =\", my_tuple[0:4])\n",
    "print(\"Value from 5th last element upto 5th index =\", my_tuple[-5:8])\n",
    "print(\"Value from 0th index upto 3rd index =\", my_tuple[:3])\n",
    "print(\"Value from 2nd index to last element =\", my_tuple[2:])\n",
    "print(\"Value every 2nd element from tuple =\", my_tuple[::2])\n",
    "print(\"Value every element from tuple starting from last =\", my_tuple[::-1])"
   ]
  },
  {
   "cell_type": "code",
   "execution_count": 51,
   "metadata": {},
   "outputs": [
    {
     "name": "stdout",
     "output_type": "stream",
     "text": [
      "44.6463\n",
      "-49.583\n"
     ]
    }
   ],
   "source": [
    "#tuple having latitutes and longitudes of a location\n",
    "location_coordinates=(44.6463, -49.583)\n",
    "\n",
    "#iterating through each axis in location_coordinates tuple using for loop\n",
    "for cordinate in location_coordinates:\n",
    "    print(cordinate)"
   ]
  },
  {
   "cell_type": "markdown",
   "metadata": {},
   "source": [
    "<a id='Updating_Tuple'></a>\n",
    "### Updating a Tuple\n",
    "Tuples objects are <b>Immutable</b> in nature, so when we try to update the value of tuple element like <code>tuple[i]=value</code> we will get<br>\n",
    "```python\n",
    "TypeError: 'tuple' object does not support item assignment\n",
    "```\n",
    "\n",
    "Simmilarly we cannot <b>Insert</b> or <b>Delete</b> tuples elements."
   ]
  },
  {
   "cell_type": "markdown",
   "metadata": {},
   "source": [
    "<a id='Miscellaneous_Functions_Tuple'></a>\n",
    "### Miscellaneous Functions\n",
    "- <code>tuple.count(element)</code> Returns the number of occurrences of element in the tuple"
   ]
  },
  {
   "cell_type": "code",
   "execution_count": 52,
   "metadata": {},
   "outputs": [
    {
     "name": "stdout",
     "output_type": "stream",
     "text": [
      "Number of time 4 is present in tuple = 3\n",
      "Number of time 9 is present in tuple = 0\n"
     ]
    }
   ],
   "source": [
    "my_tuple=(1,5,2,6,8,4,2,11,1,4,7,2,4)\n",
    "\n",
    "print(\"Number of time 4 is present in tuple =\",my_tuple.count(4))\n",
    "print(\"Number of time 9 is present in tuple =\",my_tuple.count(9))"
   ]
  },
  {
   "cell_type": "markdown",
   "metadata": {},
   "source": [
    "<a id='Copying_Tuple'></a>\n",
    "### Copying  Tuples\n",
    "Since tuple values cannot be modified, we can use assignment operation for copying tuple. No changes allowed in the value of new tuple and hence it doesn't affacts the value of original tuple"
   ]
  },
  {
   "cell_type": "code",
   "execution_count": 53,
   "metadata": {},
   "outputs": [
    {
     "data": {
      "text/plain": [
       "(1, 5, 2, 6, 8, 4, 2, 11, 1, 4, 7, 2, 4)"
      ]
     },
     "execution_count": 53,
     "metadata": {},
     "output_type": "execute_result"
    }
   ],
   "source": [
    "my_tuple=(1,5,2,6,8,4,2,11,1,4,7,2,4)\n",
    "new_tuple=my_tuple\n",
    "\n",
    "new_tuple"
   ]
  },
  {
   "cell_type": "markdown",
   "metadata": {},
   "source": [
    "<a id='Arithmetic_Tuple'></a>\n",
    "### Arithmetic Operation on Tuples\n",
    "- <code>tuple1 + tuple2</code>  Plus operation between two tuple represents concatination of the two s\n",
    "-  <code>tuple * int</code>  Multiplication between a tuple and an int represents repetation of the tuple for n number of time where n in value of int"
   ]
  },
  {
   "cell_type": "code",
   "execution_count": 54,
   "metadata": {},
   "outputs": [
    {
     "name": "stdout",
     "output_type": "stream",
     "text": [
      "(1, 2, 3, 'one', 'two', 'three')\n"
     ]
    }
   ],
   "source": [
    "t1=(1,2,3)\n",
    "t2=(\"one\",\"two\",\"three\")\n",
    "\n",
    "#concatination of two tuple\n",
    "new_tuple=t1+t2\n",
    "\n",
    "print(new_tuple)"
   ]
  },
  {
   "cell_type": "code",
   "execution_count": 55,
   "metadata": {},
   "outputs": [
    {
     "name": "stdout",
     "output_type": "stream",
     "text": [
      "('one', 'two', 'three', 'one', 'two', 'three', 'one', 'two', 'three')\n"
     ]
    }
   ],
   "source": [
    "my_tuple=(\"one\",\"two\",\"three\")\n",
    "\n",
    "# repeats a tuple for the 3 times\n",
    "new_tuple=my_tuple*3\n",
    "print(new_tuple)"
   ]
  },
  {
   "cell_type": "markdown",
   "metadata": {},
   "source": [
    "<a id='Tuple_Membership'></a>\n",
    "### Tuple Membership\n",
    "We can use inbuilt membership operator <b>in</b> like <code>element in tuple</code> and this expression will return True if element is present in the tuple otherwise False is return."
   ]
  },
  {
   "cell_type": "code",
   "execution_count": 56,
   "metadata": {},
   "outputs": [
    {
     "name": "stdout",
     "output_type": "stream",
     "text": [
      "Member\n"
     ]
    }
   ],
   "source": [
    "my_tuple=(\"one\",\"two\",\"three\")\n",
    "\n",
    "element=\"one\"\n",
    "\n",
    "if element in my_tuple:\n",
    "    print(\"Member\")\n",
    "else:\n",
    "    print(\"Not a Member\")"
   ]
  },
  {
   "cell_type": "markdown",
   "metadata": {},
   "source": [
    "----\n",
    "<a id='Set'></a><img src=\"images\\set.png\" style=\"float: right;\"  width=300 height=300 />\n",
    "# Set \n",
    "Set are used to store multiple elements of different types in a single variable<br>\n",
    "Set is <b>Mutable</b>, but the elements contained in the set must be of an immutable type<br>\n",
    "Set are <b>Unordered </b> i.e. elements of set can appear in a different order every time you use them, \n",
    "and cannot be referred to by index or key. <br>\n",
    "Set have <b>Unique Values</b> i.e. set dosen't contains duplicate values <br>\n",
    "Set is implemented by <b>Hash tables</b><br>\n",
    "Sets are used for fast membership testing O(1) and eleminating duplicate entries"
   ]
  },
  {
   "cell_type": "markdown",
   "metadata": {},
   "source": [
    "<a id='Creating_Set'></a>\n",
    "### Creating a Set\n",
    "Set can be created by these methods :\n",
    "- <code>set_name = set(iterable)</code>  iterable represents iterableobjects such as list,tuple,string \n",
    "- <code>set_name = {values} </code> values represents more than one values of any immutable data type\n",
    "\n",
    "if we use Mutable value to create set like <code>set_name = {.. , list, ..} </code>we will get this error\n",
    "```python\n",
    "TypeError: unhashable type: 'list'\n",
    "```"
   ]
  },
  {
   "cell_type": "code",
   "execution_count": 57,
   "metadata": {},
   "outputs": [
    {
     "name": "stdout",
     "output_type": "stream",
     "text": [
      "Value = set() | Type = <class 'set'> | Length = 0\n"
     ]
    }
   ],
   "source": [
    "# defining an empty set\n",
    "my_set=set()\n",
    "print(\"Value =\",my_set,\"| Type =\",type(my_set),\"| Length =\" ,len(my_set))"
   ]
  },
  {
   "cell_type": "code",
   "execution_count": 58,
   "metadata": {},
   "outputs": [
    {
     "name": "stdout",
     "output_type": "stream",
     "text": [
      "Value = {False, 2.3, 'foo', 'apple', (3+5j), 22, 56} | Type = <class 'set'> | Length = 7\n"
     ]
    }
   ],
   "source": [
    "my_set={\"apple\", 56 , 2.3 ,False,\"foo\",22,3+5j}\n",
    "print(\"Value =\",my_set,\"| Type =\",type(my_set),\"| Length =\" ,len(my_set))"
   ]
  },
  {
   "cell_type": "code",
   "execution_count": 59,
   "metadata": {},
   "outputs": [
    {
     "name": "stdout",
     "output_type": "stream",
     "text": [
      "Value = {1, 2, 3, 4, 5, 6} | Type = <class 'set'> | Length = 6\n"
     ]
    }
   ],
   "source": [
    "my_set=set([1,2,3,4,5,4,2,4,6,1,3])\n",
    "print(\"Value =\",my_set,\"| Type =\",type(my_set),\"| Length =\" ,len(my_set))"
   ]
  },
  {
   "cell_type": "code",
   "execution_count": 60,
   "metadata": {},
   "outputs": [
    {
     "name": "stdout",
     "output_type": "stream",
     "text": [
      "Value = {'n', 'b', 'a'} | Type = <class 'set'> | Length = 3\n"
     ]
    }
   ],
   "source": [
    "my_set=set(\"banana\")\n",
    "print(\"Value =\",my_set,\"| Type =\",type(my_set),\"| Length =\" ,len(my_set))"
   ]
  },
  {
   "cell_type": "markdown",
   "metadata": {},
   "source": [
    "<a id='Accessing_Set'></a>\n",
    "### Accessing Set Elements\n",
    "Set elements are Unordered, so we cannot access elements in a set by referring to an index or a key. \n",
    "\n",
    "If we use indexing to access set elements we will get this error :\n",
    "```python \n",
    "TypeError: 'set' object is not subscriptable\n",
    "```\n",
    "\n",
    "However we can use loop to iterate over the elements from the set"
   ]
  },
  {
   "cell_type": "code",
   "execution_count": 61,
   "metadata": {},
   "outputs": [
    {
     "name": "stdout",
     "output_type": "stream",
     "text": [
      "harry\n",
      "tom\n",
      "jony\n",
      "david\n"
     ]
    }
   ],
   "source": [
    "#set of all users in a system\n",
    "users={\"tom\",\"harry\",\"jony\",\"david\"}\n",
    "\n",
    "#iterating through each user present in the set using for loop\n",
    "for user in users:\n",
    "    print(user)"
   ]
  },
  {
   "cell_type": "markdown",
   "metadata": {},
   "source": [
    "<a id='Inserting_Set'></a>\n",
    "### Inserting Elements to the Set\n",
    "Elements can be inserted into the set by using these methods :\n",
    "- <code>set.add(element)</code>  Add element to the set\n",
    "- <code>set.update(iterable)</code> iterable can be tuples, lists, strings or other sets\n",
    "\n",
    "If the element is already present in the set then that element is not added to the set to maintain unique values"
   ]
  },
  {
   "cell_type": "code",
   "execution_count": 62,
   "metadata": {},
   "outputs": [
    {
     "name": "stdout",
     "output_type": "stream",
     "text": [
      "{2, 3, 4}\n",
      "{1, 2, 3, 4, 5}\n"
     ]
    }
   ],
   "source": [
    "# defining an empty set\n",
    "my_set=set()\n",
    "\n",
    "my_set.add(4)\n",
    "my_set.add(3)\n",
    "my_set.add(2)\n",
    "print(my_set)\n",
    "\n",
    "my_set.update([1,2,3,4,5])\n",
    "print(my_set)"
   ]
  },
  {
   "cell_type": "markdown",
   "metadata": {},
   "source": [
    "<a id='Deleting_Set'></a>\n",
    "### Deleting Elemets from the Set\n",
    "Elemets can be deleted into the set by using these methods :\n",
    "- <code>set.remove(element)</code>  Removes the given element from the set if it is a member otherwise it raises a error \"KeyError: element\"\n",
    "- <code>set.discard(element) </code> Removes the given element from the set if it is a member otherwise it didn't do anything\n",
    "- <code>set.pop()</code>  Remove and return an arbitrary set element\n",
    "- <code>set.clear()</code>  Removes all the elements from set\n",
    "- <code>del set</code>  delete the set completely"
   ]
  },
  {
   "cell_type": "code",
   "execution_count": 63,
   "metadata": {},
   "outputs": [
    {
     "name": "stdout",
     "output_type": "stream",
     "text": [
      "Original Set value  {1, 2, 3, 4, 5, 6, 9, 10}\n",
      "Set value becomes  {1, 2, 4, 5, 6, 9, 10}\n",
      "Set value becomes  {1, 2, 4, 5, 9, 10}\n",
      "Set value becomes  {2, 4, 5, 9, 10}\n",
      "Set value becomes  {2, 4, 5, 9, 10}\n",
      "Set value becomes  {4, 5, 9, 10}\n",
      "Set value becomes  set()\n"
     ]
    }
   ],
   "source": [
    "my_set={3,4,1,2,6,2,3,5,6,3,9,10}\n",
    "\n",
    "print(\"Original Set value \",my_set)\n",
    "\n",
    "# removing 3 from set\n",
    "my_set.remove(3)\n",
    "print(\"Set value becomes \", my_set)\n",
    "\n",
    "# removing 6 from set\n",
    "my_set.discard(6)\n",
    "print(\"Set value becomes \", my_set)\n",
    "\n",
    "# removing an arbitrary set element\n",
    "my_set.pop()\n",
    "print(\"Set value becomes \", my_set)\n",
    "\n",
    "# removing 11 from set\n",
    "my_set.discard(11)\n",
    "print(\"Set value becomes \", my_set)\n",
    "\n",
    "# removing an arbitrary set element\n",
    "my_set.pop()\n",
    "print(\"Set value becomes \", my_set)\n",
    "\n",
    "\n",
    "#removing all the elements from set\n",
    "my_set.clear()\n",
    "print(\"Set value becomes \", my_set)"
   ]
  },
  {
   "cell_type": "markdown",
   "metadata": {},
   "source": [
    "<a id='Set_Operations'></a>\n",
    "### Set Operations\n",
    "Sets can be used to carry out mathematical set operations like union, intersection, difference and symmetric difference.\n",
    "- <code>set1.union(set2[,set3...])</code>  or <code>set1 | set2 [| set2...]</code> could be used to perform <b>Set Union</b>\n",
    "- <code>set1.intersection(set2[,set3...])</code>  or <code>set1 & set2 [& set2...]</code> could be used to perform <b>Set Intersection</b>\n",
    "- <code>set1.difference(set2[,set3...])</code>  or <code>set1 - set2 [- set2...]</code> could be used to perform <b>Set Difference</b>\n",
    "- <code>set1.symmetric_difference(set2[,set3...])</code>  or <code>set1 ^ set2 [^ set2...]</code> could be used to perform <b>Set Symmetric Difference</b>\n",
    "- <code>set1.isdisjoint(set2)</code>  Return True if two sets have a null intersection\n",
    "- <code>set1.issubset(set2)</code> Returns True if set2 contains set1\n",
    "- <code>set1.issuperset(set2)</code> Returns True if this set1 contains set2\n",
    "\n",
    "Also we can update the value of one set(set1) on the basis of these set operations on other set(set2) using <code>set1.update(set2), set1.intersection_update(set2), set1.difference_update(set2), set1.symmetric_difference_update(set2)</code>"
   ]
  },
  {
   "cell_type": "code",
   "execution_count": 64,
   "metadata": {},
   "outputs": [],
   "source": [
    "python_users={\"david\",\"john\",\"sam\",\"rick\"}\n",
    "c_users={\"tom\",\"john\",\"harry\",\"morty\",\"rick\"}"
   ]
  },
  {
   "cell_type": "code",
   "execution_count": 65,
   "metadata": {},
   "outputs": [
    {
     "name": "stdout",
     "output_type": "stream",
     "text": [
      "{'harry', 'john', 'tom', 'sam', 'david', 'rick', 'morty'}\n",
      "{'harry', 'john', 'tom', 'sam', 'david', 'rick', 'morty'}\n"
     ]
    }
   ],
   "source": [
    "# find all users using union\n",
    "print(python_users.union(c_users))\n",
    "print(python_users | c_users)"
   ]
  },
  {
   "cell_type": "code",
   "execution_count": 66,
   "metadata": {},
   "outputs": [
    {
     "name": "stdout",
     "output_type": "stream",
     "text": [
      "{'john', 'rick'}\n",
      "{'john', 'rick'}\n"
     ]
    }
   ],
   "source": [
    "# users who know both python and c\n",
    "print(python_users.intersection(c_users))\n",
    "print(python_users & c_users)"
   ]
  },
  {
   "cell_type": "code",
   "execution_count": 67,
   "metadata": {},
   "outputs": [
    {
     "name": "stdout",
     "output_type": "stream",
     "text": [
      "{'david', 'sam'}\n",
      "{'david', 'sam'}\n"
     ]
    }
   ],
   "source": [
    "# users who know only python \n",
    "print(python_users.difference(c_users))\n",
    "print(python_users - c_users)"
   ]
  },
  {
   "cell_type": "code",
   "execution_count": 68,
   "metadata": {},
   "outputs": [
    {
     "name": "stdout",
     "output_type": "stream",
     "text": [
      "{'harry', 'david', 'tom', 'morty', 'sam'}\n",
      "{'harry', 'david', 'tom', 'morty', 'sam'}\n"
     ]
    }
   ],
   "source": [
    "# users who know only one of the language\n",
    "print(python_users.symmetric_difference(c_users))\n",
    "print(python_users ^ c_users)"
   ]
  },
  {
   "cell_type": "code",
   "execution_count": 69,
   "metadata": {},
   "outputs": [
    {
     "name": "stdout",
     "output_type": "stream",
     "text": [
      "set1  {1, 2, 3, 4}\n",
      "set2  {0, 1, 2, 3, 4, 5, 6, 7, 8}\n",
      "These sets are not Disjoint\n",
      "set1 is a Subset of set2\n",
      "set2 is a Superset of set1\n"
     ]
    }
   ],
   "source": [
    "set1 = {1, 2, 3, 4}\n",
    "set2 = {4, 5, 6, 7, 8, 1, 3, 2, 0}\n",
    "\n",
    "print(\"set1 \",set1)\n",
    "print(\"set2 \",set2)\n",
    "\n",
    "if set1.isdisjoint(set2):\n",
    "    print(\"These sets are Disjoint\")\n",
    "else:\n",
    "    print(\"These sets are not Disjoint\")\n",
    "    \n",
    "if set1.issubset(set2):\n",
    "    print(\"set1 is a Subset of set2\")\n",
    "else:\n",
    "    print(\"set1 is not a Subset of set2\")\n",
    "    \n",
    "if set2.issuperset(set1):\n",
    "    print(\"set2 is a Superset of set1\")\n",
    "else:\n",
    "    print(\"set2 is not a Superset of set1\")    "
   ]
  },
  {
   "cell_type": "markdown",
   "metadata": {},
   "source": [
    "<a id='Copying_Set'></a>\n",
    "### Copying  Sets\n",
    "If copy the content of a set into new set by using \"=\" assignment operator then only refrenced is copied and the changes made to new set would reflect the change in old set<br>\n",
    "In some scenerio we might want this but if we don't want to reflect the changes of new set into old set then in that case we can use <code>set.copy()</code> which returns shallow copy of the set and hence the changes in new set doesn't affects the content of old set"
   ]
  },
  {
   "cell_type": "code",
   "execution_count": 70,
   "metadata": {},
   "outputs": [
    {
     "name": "stdout",
     "output_type": "stream",
     "text": [
      "changes are made in new_set\n",
      "new_set is same as my_set\n",
      "new_set values are  {0, 1, 2, 3, 4, 5, 6, 9, 10, -1}\n",
      "my_set values are  {0, 1, 2, 3, 4, 5, 6, 9, 10, -1}\n"
     ]
    }
   ],
   "source": [
    "my_set={3,4,1,2,6,2,3,5,6,3,9,10}\n",
    "\n",
    "\n",
    "#set is copied using assignment operator\n",
    "new_set=my_set\n",
    "\n",
    "#changes are made in new_set\n",
    "new_set.add(0)\n",
    "new_set.add(-1)\n",
    "print(\"changes are made in new_set\")\n",
    "\n",
    "if my_set == new_set:\n",
    "    print(\"new_set is same as my_set\")\n",
    "else:\n",
    "    print(\"new_set is not same as my_set\")\n",
    "    \n",
    "print(\"new_set values are \",new_set)\n",
    "print(\"my_set values are \",my_set)"
   ]
  },
  {
   "cell_type": "code",
   "execution_count": 71,
   "metadata": {},
   "outputs": [
    {
     "name": "stdout",
     "output_type": "stream",
     "text": [
      "changes are made in new_set\n",
      "new_set is not same as my_set\n",
      "new_set values are  {0, 1, 2, 3, 4, 5, 6, 9, 10, -1}\n",
      "my_set values are  {1, 2, 3, 4, 5, 6, 9, 10}\n"
     ]
    }
   ],
   "source": [
    "my_set={3,4,1,2,6,2,3,5,6,3,9,10}\n",
    "\n",
    "\n",
    "#set is copied using set.copy()\n",
    "new_set=my_set.copy()\n",
    "\n",
    "#changes are made in new_set\n",
    "new_set.add(0)\n",
    "new_set.add(-1)\n",
    "print(\"changes are made in new_set\")\n",
    "\n",
    "if my_set == new_set:\n",
    "    print(\"new_set is same as my_set\")\n",
    "else:\n",
    "    print(\"new_set is not same as my_set\")\n",
    "    \n",
    "print(\"new_set values are \",new_set)\n",
    "print(\"my_set values are \",my_set)"
   ]
  },
  {
   "cell_type": "markdown",
   "metadata": {},
   "source": [
    "<a id='Arithmetic_Set'></a>\n",
    "### Arithmetic Operation on Sets\n",
    "Unlike other data type we cannot perform any arthimetic operation between sets."
   ]
  },
  {
   "cell_type": "markdown",
   "metadata": {},
   "source": [
    "<a id='Set_Membership'></a>\n",
    "### Set Membership\n",
    "We can use inbuilt membership operator <b>in</b> like <code>element in set</code> and this expression will return True if element is present in the set otherwise False is return."
   ]
  },
  {
   "cell_type": "code",
   "execution_count": 72,
   "metadata": {},
   "outputs": [
    {
     "name": "stdout",
     "output_type": "stream",
     "text": [
      "Not a Member\n"
     ]
    }
   ],
   "source": [
    "my_set={3,1,5,2,6,2,8,9,4}\n",
    "\n",
    "if 10 in my_set:\n",
    "    print(\"Member\")\n",
    "else:\n",
    "    print(\"Not a Member\")"
   ]
  },
  {
   "cell_type": "markdown",
   "metadata": {},
   "source": [
    "----\n",
    "<a id='Dictionary'></a> <img src=\"images\\dictionary.PNG\" style=\"float: right;\"  width=350 height=350 />\n",
    "# Dictionary \n",
    "Dictionaries are used to store data values in <b>Key:Value</b> pairs<br>\n",
    "Dictionaries are <b>Mutable</b> i.e. their value can be altered once declared<br>\n",
    "Dictionaries are indexed by keys which are <b>Unique</b> and can be any of any immutable type<br>\n",
    "Dictionaries are optimized to retrieve values when the key is known"
   ]
  },
  {
   "cell_type": "markdown",
   "metadata": {},
   "source": [
    "<a id='Creating_Dictionary'></a>\n",
    "### Creating a Dictionary\n",
    "Dictionary can be created by these methods :\n",
    "- <code>dict_name = {.. , key:value , ..}</code>  as simple key values pair inside braces \n",
    "- <code>dict_name = dict([.. , (key,value)  , ..]) </code> as list of key value tuple in dict method\n",
    "- <code>dict.fromkeys(sequence[, value]) </code> Return a new dictionary . where  sequence is to be used as keys for the new dictionary and value(Optional) which is set to each key of the dictionary"
   ]
  },
  {
   "cell_type": "code",
   "execution_count": 73,
   "metadata": {},
   "outputs": [
    {
     "name": "stdout",
     "output_type": "stream",
     "text": [
      "Value = {} | Type = <class 'dict'> | Length = 0\n"
     ]
    }
   ],
   "source": [
    "# defining an empty dictionary\n",
    "my_dict={}\n",
    "print(\"Value =\",my_dict,\"| Type =\",type(my_dict),\"| Length =\" ,len(my_dict))"
   ]
  },
  {
   "cell_type": "code",
   "execution_count": 74,
   "metadata": {},
   "outputs": [
    {
     "name": "stdout",
     "output_type": "stream",
     "text": [
      "Value = {'Algo': 95, 'DS': 97, 'DBMS': 85, 'OS': 90} | Type = <class 'dict'> | Length = 4\n"
     ]
    }
   ],
   "source": [
    "my_dict = { \"Algo\": 95,  \"DS\": 97, \"DBMS\": 85, \"OS\" : 90 }\n",
    "print(\"Value =\",my_dict,\"| Type =\",type(my_dict),\"| Length =\" ,len(my_dict))"
   ]
  },
  {
   "cell_type": "code",
   "execution_count": 75,
   "metadata": {},
   "outputs": [
    {
     "name": "stdout",
     "output_type": "stream",
     "text": [
      "Value = {'Algo': 95, 'DS': 97, 'DBMS': 85, 'OS': 90} | Type = <class 'dict'> | Length = 4\n"
     ]
    }
   ],
   "source": [
    "my_dict = dict([(\"Algo\",95), (\"DS\",97), (\"DBMS\",85), (\"OS\",90)] )\n",
    "print(\"Value =\",my_dict,\"| Type =\",type(my_dict),\"| Length =\" ,len(my_dict))"
   ]
  },
  {
   "cell_type": "code",
   "execution_count": 76,
   "metadata": {},
   "outputs": [
    {
     "name": "stdout",
     "output_type": "stream",
     "text": [
      "{'e': None, 'i': None, 'o': None, 'a': None, 'u': None}\n",
      "{'e': 'vowel', 'i': 'vowel', 'o': 'vowel', 'a': 'vowel', 'u': 'vowel'}\n"
     ]
    }
   ],
   "source": [
    "my_dict={}\n",
    "keys = {'a', 'e', 'i', 'o', 'u' }\n",
    "\n",
    "# Create a dictionary from a sequence of keys\n",
    "dict_1=my_dict.fromkeys(keys)\n",
    "print(dict_1)\n",
    "\n",
    "#Create a dictionary from a sequence of keys with value\n",
    "value= 'vowel'\n",
    "dict_2=my_dict.fromkeys(keys,value)\n",
    "print(dict_2)"
   ]
  },
  {
   "cell_type": "code",
   "execution_count": 77,
   "metadata": {},
   "outputs": [
    {
     "name": "stdout",
     "output_type": "stream",
     "text": [
      "{'e': ['vowel'], 'i': ['vowel'], 'o': ['vowel'], 'a': ['vowel'], 'u': ['vowel']}\n",
      "{'e': ['consonant'], 'i': ['consonant'], 'o': ['consonant'], 'a': ['consonant'], 'u': ['consonant']}\n"
     ]
    }
   ],
   "source": [
    "my_dict={}\n",
    "keys = {'a', 'e', 'i', 'o', 'u' }\n",
    "\n",
    "# Create a dictionary from mutable object list\n",
    "value=[\"vowel\"]\n",
    "dict_3=my_dict.fromkeys(keys,value)\n",
    "print(dict_3)\n",
    "\n",
    "#updating the mutable object\n",
    "value[0]='consonant'\n",
    "print(dict_3)\n",
    "      \n",
    "#there we find an issue that when we change the value the dictionary also get changed"
   ]
  },
  {
   "cell_type": "code",
   "execution_count": 78,
   "metadata": {},
   "outputs": [
    {
     "name": "stdout",
     "output_type": "stream",
     "text": [
      "{'e': ['vowel'], 'i': ['vowel'], 'o': ['vowel'], 'a': ['vowel'], 'u': ['vowel']}\n",
      "{'e': ['vowel'], 'i': ['vowel'], 'o': ['vowel'], 'a': ['vowel'], 'u': ['vowel']}\n"
     ]
    }
   ],
   "source": [
    "# To avoid this issue mentioned above, we use dictionary comprehension to make that mutuable data into immutable type\n",
    "keys = {'a', 'e', 'i', 'o', 'u' }\n",
    "value = [\"vowel\"]\n",
    "\n",
    "dict_4 = { key : list(value) for key in keys }\n",
    "# you can also use { key : value[:] for key in keys }\n",
    "print(dict_4)\n",
    "\n",
    "#updating the mutable object\n",
    "value[0]='consonant'\n",
    "print(dict_4)"
   ]
  },
  {
   "cell_type": "markdown",
   "metadata": {},
   "source": [
    "<a id='Accessing_Dictionary'></a>\n",
    "### Accessing Dictionary Elements\n",
    "Dictionary elements can be accessed using keys by these methods :\n",
    "- <code>dict[key]</code>   Return the value for key if key is in the dictionary, otherwise raise KeyError\n",
    "- <code>dict.get(key, default=None)</code>   Return the value for key if key is in the dictionary, otherwise returns default value \n",
    "- <code>dict.setdefault(key,default=None)</code>  Return the value for key if key is in the dictionary, else retruns default value by inserting it 1st into the dictionary\n",
    "- <code>dict.keys()</code>   Return a set-like object providing a view on dictionary keys\n",
    "- <code>dict.values()</code> Return a set-like object providing a view on dictionary values\n",
    "- <code>dict.items()</code>  Return a set-like object providing a view on dictionary key:value pairs\n",
    "\n"
   ]
  },
  {
   "cell_type": "code",
   "execution_count": 79,
   "metadata": {},
   "outputs": [
    {
     "name": "stdout",
     "output_type": "stream",
     "text": [
      "Marks in of Algo 95\n",
      "Marks in of OS 90\n",
      "Marks in of C 0\n",
      "{'Algo': 95, 'DS': 97, 'DBMS': 85, 'OS': 90}\n",
      "Marks in of C 0\n",
      "{'Algo': 95, 'DS': 97, 'DBMS': 85, 'OS': 90, 'C': 0}\n"
     ]
    }
   ],
   "source": [
    "my_dict = dict([(\"Algo\",95), (\"DS\",97), (\"DBMS\",85), (\"OS\",90)] )\n",
    "\n",
    "print(\"Marks in of Algo\",my_dict[\"Algo\"])\n",
    "print(\"Marks in of OS\",my_dict.get(\"OS\"))\n",
    "print(\"Marks in of C\",my_dict.get(\"C\",0)) # asscessing key which is not peresent in dictionary without modifying the dict\n",
    "print(my_dict)\n",
    "print(\"Marks in of C\",my_dict.setdefault(\"C\",0)) # asscessing key which is not peresent in dictionary by inserting its defafult value\n",
    "print(my_dict)"
   ]
  },
  {
   "cell_type": "code",
   "execution_count": 80,
   "metadata": {},
   "outputs": [
    {
     "name": "stdout",
     "output_type": "stream",
     "text": [
      "Keys :  dict_keys(['Algo', 'DS', 'DBMS', 'OS', 'C'])\n",
      "Values :  dict_values([95, 97, 85, 90, 0])\n",
      "Key:Value pairs :  dict_items([('Algo', 95), ('DS', 97), ('DBMS', 85), ('OS', 90), ('C', 0)])\n"
     ]
    }
   ],
   "source": [
    "print(\"Keys : \",my_dict.keys())\n",
    "print(\"Values : \",my_dict.values())\n",
    "print(\"Key:Value pairs : \",my_dict.items())"
   ]
  },
  {
   "cell_type": "code",
   "execution_count": 81,
   "metadata": {},
   "outputs": [
    {
     "name": "stdout",
     "output_type": "stream",
     "text": [
      "Algo : 95\n",
      "DS : 97\n",
      "DBMS : 85\n",
      "OS : 90\n",
      "C : 0\n"
     ]
    }
   ],
   "source": [
    "#assceesing dictionary value using key in loop\n",
    "for key in my_dict:\n",
    "    print(key,\":\",my_dict[key])"
   ]
  },
  {
   "cell_type": "code",
   "execution_count": 82,
   "metadata": {},
   "outputs": [
    {
     "name": "stdout",
     "output_type": "stream",
     "text": [
      "Algo : 95\n",
      "DS : 97\n",
      "DBMS : 85\n",
      "OS : 90\n",
      "C : 0\n"
     ]
    }
   ],
   "source": [
    "#assceesing dictionary value using key,value in loop\n",
    "for key,value in my_dict.items():\n",
    "    print(key,\":\",value)"
   ]
  },
  {
   "cell_type": "markdown",
   "metadata": {},
   "source": [
    "<a id='Updating_Dictionary'></a>\n",
    "### Updating & Inserting Elements to the Dictionary\n",
    "These are the methods which would insert the key value pair if the key is not present otherwise same method would update the existing value of the key :\n",
    "- <code>dict[key]=new_value</code>  Update the value of key with new_value. If the key is not present, a new (key: value) pair is added to the dictionary\n",
    "- <code>dict.update({..., key:new_value , ..})</code> Merges the dictionary with another dictionary \n",
    "- <code>dict.update([..., (key,new_value) , ..])</code> Merges the dictionary with with an iterable of key-value pairs"
   ]
  },
  {
   "cell_type": "code",
   "execution_count": 83,
   "metadata": {},
   "outputs": [
    {
     "data": {
      "text/plain": [
       "{'Algo': 98, 'DS': 89, 'DBMS': 85, 'OS': 90, 'CN': 90, 'CD': 86, 'TOC': 70}"
      ]
     },
     "execution_count": 83,
     "metadata": {},
     "output_type": "execute_result"
    }
   ],
   "source": [
    "my_dict = dict([(\"Algo\",95), (\"DS\",97), (\"DBMS\",85), (\"OS\",90)] )\n",
    "\n",
    "\n",
    "my_dict[\"Algo\"]=98\n",
    "my_dict.update({\"DS\":89,\"CN\":90})\n",
    "my_dict.update([(\"CD\",86),(\"TOC\",70)])\n",
    "\n",
    "my_dict"
   ]
  },
  {
   "cell_type": "markdown",
   "metadata": {},
   "source": [
    "<a id='Deleting_Dictionary'></a>\n",
    "### Deleting Elemets from the Dictionary\n",
    "Elemets can be deleted into the dictionary by using these methods :\n",
    "- <code>dict.pop(key,msg)</code>  Remove specified key and return the corresponding value. If key is not found, msg is returned if given, otherwise KeyError is raised\n",
    "- <code>dict.popitem() </code>  Remove and return an arbitrary (key, value) item pair from the dictionary\n",
    "- <code>del dict[key]</code>  Removes specified key. If key is not found, KeyError is raised\n",
    "- <code>dict.clear()</code>  Removes all the key:value pairs from dictionary\n",
    "- <code>del dict</code>  Removes whole dictionary"
   ]
  },
  {
   "cell_type": "code",
   "execution_count": 84,
   "metadata": {},
   "outputs": [
    {
     "name": "stdout",
     "output_type": "stream",
     "text": [
      "{'Algo': 98, 'DS': 89, 'DBMS': 85, 'OS': 90, 'CN': 90, 'CD': 86, 'TOC': 70}\n",
      "{'DS': 89, 'DBMS': 85, 'OS': 90, 'CN': 90, 'CD': 86, 'TOC': 70}\n",
      "{'DS': 89, 'DBMS': 85, 'OS': 90, 'CN': 90, 'TOC': 70}\n",
      "{'DS': 89, 'DBMS': 85, 'OS': 90, 'CN': 90}\n",
      "{}\n"
     ]
    }
   ],
   "source": [
    "print(my_dict)\n",
    "\n",
    "my_dict.pop(\"Algo\")\n",
    "print(my_dict)\n",
    "\n",
    "del my_dict[\"CD\"]\n",
    "print(my_dict)\n",
    "\n",
    "my_dict.popitem()\n",
    "print(my_dict)\n",
    "\n",
    "my_dict.clear()\n",
    "print(my_dict)"
   ]
  },
  {
   "cell_type": "markdown",
   "metadata": {},
   "source": [
    "<a id='Copying_Dictionary'></a>\n",
    "### Copying  Dictionary\n",
    "We cannot copy a dictionary simply by assignment operator like <code>dict2 = dict1</code>, because: dict2 will only be a reference to dict1, and changes made in dict1 will automatically also be made in dict2<br>\n",
    "\n",
    "We have to use <code>dict.copy()</code> to make a shallow copy of a dictionary"
   ]
  },
  {
   "cell_type": "code",
   "execution_count": 85,
   "metadata": {},
   "outputs": [
    {
     "data": {
      "text/plain": [
       "{'Algo': 99, 'DS': 97, 'DBMS': 85, 'OS': 90}"
      ]
     },
     "execution_count": 85,
     "metadata": {},
     "output_type": "execute_result"
    }
   ],
   "source": [
    "old_dict = dict([(\"Algo\",95), (\"DS\",97), (\"DBMS\",85), (\"OS\",90)] )\n",
    "\n",
    "# copying using assignment operator\n",
    "new_dict=old_dict\n",
    "\n",
    "new_dict[\"Algo\"]=99\n",
    "\n",
    "old_dict # the old_dict is also gets modified"
   ]
  },
  {
   "cell_type": "code",
   "execution_count": 86,
   "metadata": {},
   "outputs": [
    {
     "data": {
      "text/plain": [
       "{'Algo': 95, 'DS': 97, 'DBMS': 85, 'OS': 90}"
      ]
     },
     "execution_count": 86,
     "metadata": {},
     "output_type": "execute_result"
    }
   ],
   "source": [
    "old_dict = dict([(\"Algo\",95), (\"DS\",97), (\"DBMS\",85), (\"OS\",90)] )\n",
    "\n",
    "#making a shallow copy\n",
    "new_dict=old_dict.copy()\n",
    "\n",
    "new_dict[\"Algo\"]=99\n",
    "\n",
    "old_dict # the old_dict is are not affected"
   ]
  },
  {
   "cell_type": "markdown",
   "metadata": {},
   "source": [
    "<a id='Dictionary_Membership'></a>\n",
    "### Dictionary Membership\n",
    "We can use inbuilt membership operator <b>in</b> like <code>key in dict</code> and this expression will return True if key is present in the set otherwise False is return."
   ]
  },
  {
   "cell_type": "code",
   "execution_count": 87,
   "metadata": {},
   "outputs": [
    {
     "name": "stdout",
     "output_type": "stream",
     "text": [
      "True\n",
      "False\n"
     ]
    }
   ],
   "source": [
    "my_dict = dict([(\"Algo\",95), (\"DS\",97), (\"DBMS\",85), (\"OS\",90)] )\n",
    "\n",
    "print(\"Algo\" in my_dict)\n",
    "print(\"TOC\" in my_dict)"
   ]
  },
  {
   "cell_type": "markdown",
   "metadata": {},
   "source": [
    "<a id='Comprehension_Dictionary'></a>\n",
    "### Dictionary Comprehension\n",
    "Dictionary Comprehension offers a shorter syntax when you want to create a new dictionary based on the values of an existing dictionary\n",
    "```python \n",
    "new_list = { key:value for member in iterable }\n",
    "```\n",
    "where key and value are mentioned in the terms of member"
   ]
  },
  {
   "cell_type": "code",
   "execution_count": 88,
   "metadata": {},
   "outputs": [
    {
     "data": {
      "text/plain": [
       "{1: 1, 2: 4, 3: 9, 4: 16, 5: 25, 6: 36, 7: 49, 8: 64, 9: 81}"
      ]
     },
     "execution_count": 88,
     "metadata": {},
     "output_type": "execute_result"
    }
   ],
   "source": [
    "square_dict={x: x**2 for x in range(1,10)}\n",
    "square_dict"
   ]
  },
  {
   "cell_type": "markdown",
   "metadata": {},
   "source": [
    "----\n",
    "<a id='Strings'></a>\n",
    "# Strings\n",
    "A string is a sequence of characters\n",
    "\n",
    "String is <b>Immutable</b> i.e. their value cannot be altered once declared<br>\n",
    "String is <b>Ordered </b> based on index and the starting index is 0<br>\n",
    "String can have characters with <b>Duplicate Values</b><br>"
   ]
  },
  {
   "cell_type": "markdown",
   "metadata": {},
   "source": [
    "<a id='Creating_String'></a>\n",
    "### Creating a String\n",
    "Strings in Python can be created using single quotes('...') or double quotes(\"...\") or even triple quotes('''...''')"
   ]
  },
  {
   "cell_type": "code",
   "execution_count": 89,
   "metadata": {},
   "outputs": [
    {
     "name": "stdout",
     "output_type": "stream",
     "text": [
      "Value =  | Type = <class 'str'> | Length = 0\n"
     ]
    }
   ],
   "source": [
    "#defining empty string\n",
    "string=''\n",
    "print(\"Value =\",string,\"| Type =\",type(string),\"| Length =\" ,len(string))"
   ]
  },
  {
   "cell_type": "code",
   "execution_count": 90,
   "metadata": {},
   "outputs": [
    {
     "name": "stdout",
     "output_type": "stream",
     "text": [
      "Value = This is string with single quotes | Type = <class 'str'> | Length = 33\n"
     ]
    }
   ],
   "source": [
    "#defining string with single quotes\n",
    "string='This is string with single quotes'\n",
    "print(\"Value =\",string,\"| Type =\",type(string),\"| Length =\" ,len(string))"
   ]
  },
  {
   "cell_type": "code",
   "execution_count": 91,
   "metadata": {},
   "outputs": [
    {
     "name": "stdout",
     "output_type": "stream",
     "text": [
      "Value = This is string with double quotes | Type = <class 'str'> | Length = 33\n"
     ]
    }
   ],
   "source": [
    "#defining string with double quotes\n",
    "string=\"This is string with double quotes\"\n",
    "print(\"Value =\",string,\"| Type =\",type(string),\"| Length =\" ,len(string))"
   ]
  },
  {
   "cell_type": "code",
   "execution_count": 92,
   "metadata": {},
   "outputs": [
    {
     "name": "stdout",
     "output_type": "stream",
     "text": [
      "Value = This is string with triple quotes\n",
      "which can be used to store multiline strings | Type = <class 'str'> | Length = 78\n"
     ]
    }
   ],
   "source": [
    "#defining string with triple quotes\n",
    "string='''This is string with triple quotes\n",
    "which can be used to store multiline strings'''\n",
    "print(\"Value =\",string,\"| Type =\",type(string),\"| Length =\" ,len(string))"
   ]
  },
  {
   "cell_type": "markdown",
   "metadata": {},
   "source": [
    "By default <b>\\ </b> can is used as escape character and it has spacial meaning for the keywords like <b>'\\n'</b> in string means new line\n",
    "\n",
    "If you don’t want characters prefaced by \\ to be interpreted as special characters, you can use raw strings by adding an r before the first quote"
   ]
  },
  {
   "cell_type": "code",
   "execution_count": 93,
   "metadata": {},
   "outputs": [
    {
     "name": "stdout",
     "output_type": "stream",
     "text": [
      "C:\\python\n",
      "amespace\n"
     ]
    }
   ],
   "source": [
    "#here the path name contains \\n which is treated as spacial keyword\n",
    "string=\"C:\\python\\namespace\"\n",
    "print(string)"
   ]
  },
  {
   "cell_type": "code",
   "execution_count": 94,
   "metadata": {},
   "outputs": [
    {
     "name": "stdout",
     "output_type": "stream",
     "text": [
      "C:\\python\\namespace\n"
     ]
    }
   ],
   "source": [
    "#to avoid spacial meaning of \\n we can use another \\ to escape another \\ used before\n",
    "string=\"C:\\python\\\\namespace\"\n",
    "print(string)"
   ]
  },
  {
   "cell_type": "code",
   "execution_count": 95,
   "metadata": {},
   "outputs": [
    {
     "name": "stdout",
     "output_type": "stream",
     "text": [
      "C:\\python\\namespace\n"
     ]
    }
   ],
   "source": [
    "#to avoid spacial meaning of \\n we can use treate the string as raw string\n",
    "string=r\"C:\\python\\namespace\"\n",
    "print(string)"
   ]
  },
  {
   "cell_type": "markdown",
   "metadata": {},
   "source": [
    "<a id='Accessing_String'></a>\n",
    "### Accessing Characters in a String \n",
    "Just like lists a string characters can be accessed by using the concept of index slicing"
   ]
  },
  {
   "cell_type": "code",
   "execution_count": 96,
   "metadata": {},
   "outputs": [
    {
     "name": "stdout",
     "output_type": "stream",
     "text": [
      "Length of string = 26\n",
      "Value of 2nd character = c\n",
      "Value of 3rd last character = x\n",
      "Value from 0th character upto 2nd character = ab\n",
      "Value from 5th last character upto 5th character = \n",
      "Value from 0th character upto 3rd character = abc\n",
      "Value from 2nd character to last character = cdefghijklmnopqrstuvwxyz\n",
      "Value every 2nd character from string = acegikmoqsuwy\n",
      "Value every character from string starting from last = zyxwvutsrqponmlkjihgfedcba\n"
     ]
    }
   ],
   "source": [
    "string=\"abcdefghijklmnopqrstuvwxyz\"\n",
    "print(\"Length of string =\",len(string))\n",
    "print(\"Value of 2nd character =\", string[2])\n",
    "print(\"Value of 3rd last character =\", string[-3])\n",
    "print(\"Value from 0th character upto 2nd character =\", string[0:2])\n",
    "print(\"Value from 5th last character upto 5th character =\", string[-5:8])\n",
    "print(\"Value from 0th character upto 3rd character =\", string[:3])\n",
    "print(\"Value from 2nd character to last character =\", string[2:])\n",
    "print(\"Value every 2nd character from string =\", string[::2])\n",
    "print(\"Value every character from string starting from last =\", string[::-1])"
   ]
  },
  {
   "cell_type": "code",
   "execution_count": 97,
   "metadata": {},
   "outputs": [
    {
     "name": "stdout",
     "output_type": "stream",
     "text": [
      "i\n",
      "k\n",
      "i\n",
      "g\n",
      "a\n",
      "i\n"
     ]
    }
   ],
   "source": [
    "#iterating through each character present in string using for loop\n",
    "string=\"ikigai\"\n",
    "\n",
    "for character in string:\n",
    "    print(character)"
   ]
  },
  {
   "cell_type": "markdown",
   "metadata": {},
   "source": [
    "<a id='Updating_String'></a>\n",
    "### Updating a String\n",
    "String objects are <b>Immutable</b> in nature, so when we try to update the value of strings chrachters like <code>string[i]=value</code> we will get<br>\n",
    "```python\n",
    "TypeError: 'str' object does not support item assignment\n",
    "```\n",
    "\n",
    "Simmilarly we cannot <b>Insert</b> or <b>Delete</b> a charachter in the string."
   ]
  },
  {
   "cell_type": "markdown",
   "metadata": {},
   "source": [
    "<a id='String_Operators'></a>\n",
    "### String Operators\n",
    "There are two operators defined to perform operation on strings\n",
    "- <b>+</b> operator to perform concatenations of two strings. ```\n",
    "```python\n",
    "concatenated_string=string1+string2\n",
    "```\n",
    "\n",
    "- <b>*</b> operator creates multiple copies of a string through an integer n\n",
    "```python\n",
    "multiple_string=string*n\n",
    "```"
   ]
  },
  {
   "cell_type": "code",
   "execution_count": 98,
   "metadata": {},
   "outputs": [
    {
     "data": {
      "text/plain": [
       "'chatterbox'"
      ]
     },
     "execution_count": 98,
     "metadata": {},
     "output_type": "execute_result"
    }
   ],
   "source": [
    "string1=\"chatter\"\n",
    "string2=\"box\"\n",
    "concatenated_string=string1+string2\n",
    "concatenated_string"
   ]
  },
  {
   "cell_type": "code",
   "execution_count": 99,
   "metadata": {},
   "outputs": [
    {
     "data": {
      "text/plain": [
       "'|^__^||^__^||^__^|'"
      ]
     },
     "execution_count": 99,
     "metadata": {},
     "output_type": "execute_result"
    }
   ],
   "source": [
    "string=\"|^__^|\"\n",
    "number=3\n",
    "multiple_string=string*number\n",
    "multiple_string"
   ]
  },
  {
   "cell_type": "markdown",
   "metadata": {},
   "source": [
    "<a id='Formatting_Strings'></a>\n",
    "### Formatting Strings\n",
    "Sometime user want to insert the value of varaibales withing a string. This can be done using simple concatination operation along with type casting of non-string variable into string.\n",
    "\n",
    "However python provides a very elegent way to handle thing using string formating funtions <b>format()</b> <br> <code>format_string.format([variables])</code> where format_string contain curly braces {} as placeholders or replacement fields which get replaced by the value of variables which are passed to the format function as arguments. These variable can be passed to format function as  a positional argument as well as keyword argument\n",
    "\n",
    "We can make use of <b>fstring</b> where variable name are specified directly within an f-string literal with curly braces {}<br> \n",
    "<code>f\"value of variable={variable_name}\"</code><br>\n",
    "Python will replace the name with the corresponding value<br>"
   ]
  },
  {
   "cell_type": "code",
   "execution_count": 100,
   "metadata": {},
   "outputs": [],
   "source": [
    "series_name=\"FRIENDS\"\n",
    "number_of_episodes=236\n",
    "seasons=10"
   ]
  },
  {
   "cell_type": "code",
   "execution_count": 101,
   "metadata": {},
   "outputs": [
    {
     "data": {
      "text/plain": [
       "'FRIENDS has 236 number of episodes with 10 seasons'"
      ]
     },
     "execution_count": 101,
     "metadata": {},
     "output_type": "execute_result"
    }
   ],
   "source": [
    "#using type casting\n",
    "string=series_name+\" has \"+str(number_of_episodes)+\" number of episodes with \"+str(seasons)+\" seasons\"\n",
    "string"
   ]
  },
  {
   "cell_type": "code",
   "execution_count": 102,
   "metadata": {},
   "outputs": [
    {
     "data": {
      "text/plain": [
       "'FRIENDS has 236 number of episodes with 10 seasons'"
      ]
     },
     "execution_count": 102,
     "metadata": {},
     "output_type": "execute_result"
    }
   ],
   "source": [
    "#default string formatting\n",
    "string=\"{} has {} number of episodes with {} seasons\".format(series_name,number_of_episodes,seasons)\n",
    "string"
   ]
  },
  {
   "cell_type": "code",
   "execution_count": 103,
   "metadata": {},
   "outputs": [
    {
     "data": {
      "text/plain": [
       "'FRIENDS has 236 number of episodes with 10 seasons'"
      ]
     },
     "execution_count": 103,
     "metadata": {},
     "output_type": "execute_result"
    }
   ],
   "source": [
    "#string formatting with positional argument\n",
    "string=\"{1} has {2} number of episodes with {0} seasons\".format(seasons,series_name,number_of_episodes)\n",
    "string"
   ]
  },
  {
   "cell_type": "code",
   "execution_count": 104,
   "metadata": {},
   "outputs": [
    {
     "data": {
      "text/plain": [
       "'FRIENDS has 236 number of episodes with 10 seasons'"
      ]
     },
     "execution_count": 104,
     "metadata": {},
     "output_type": "execute_result"
    }
   ],
   "source": [
    "#string formatting with keyword argument\n",
    "string=\"{n} has {e} number of episodes with {s} seasons\".format(e=number_of_episodes,n=series_name,s=seasons)\n",
    "string"
   ]
  },
  {
   "cell_type": "code",
   "execution_count": 105,
   "metadata": {},
   "outputs": [
    {
     "data": {
      "text/plain": [
       "'FRIENDS has 236 number of episodes with 10 seasons'"
      ]
     },
     "execution_count": 105,
     "metadata": {},
     "output_type": "execute_result"
    }
   ],
   "source": [
    "#Using fstring \n",
    "string=f\"{series_name} has {number_of_episodes} number of episodes with {seasons} seasons\"\n",
    "string"
   ]
  },
  {
   "cell_type": "markdown",
   "metadata": {},
   "source": [
    "The format() method can have optional format specifications. They are separated from the field name using colon. For example, we can left-justify <, right-justify > or center ^ a string in the given space.\n",
    "\n",
    "We can also format integers as binary, hexadecimal, etc. and floats can be rounded or displayed in the exponent format"
   ]
  },
  {
   "cell_type": "code",
   "execution_count": 106,
   "metadata": {},
   "outputs": [
    {
     "data": {
      "text/plain": [
       "'Decimal value =12, Binary value=1100, Hexadecimal value=c '"
      ]
     },
     "execution_count": 106,
     "metadata": {},
     "output_type": "execute_result"
    }
   ],
   "source": [
    "#converting number into various rpresentations\n",
    "string=\"Decimal value ={0}, Binary value={0:b}, Hexadecimal value={0:x} \".format(12)\n",
    "string"
   ]
  },
  {
   "cell_type": "code",
   "execution_count": 107,
   "metadata": {},
   "outputs": [
    {
     "data": {
      "text/plain": [
       "'Value =2.3333333333333335, Precision Upto 3 decimal=2.333'"
      ]
     },
     "execution_count": 107,
     "metadata": {},
     "output_type": "execute_result"
    }
   ],
   "source": [
    "#setting precision of floating point using format\n",
    "string=\"Value ={0}, Precision Upto 3 decimal={0:.3f}\".format(7/3)\n",
    "string"
   ]
  },
  {
   "cell_type": "code",
   "execution_count": 108,
   "metadata": {},
   "outputs": [
    {
     "data": {
      "text/plain": [
       "'|Chandler       |   Chandler    |       Chandler|'"
      ]
     },
     "execution_count": 108,
     "metadata": {},
     "output_type": "execute_result"
    }
   ],
   "source": [
    "#making a string values left,center and right justified using format\n",
    "string=\"|{0:<15}|{0:^15}|{0:>15}|\".format(\"Chandler\")\n",
    "string"
   ]
  },
  {
   "cell_type": "markdown",
   "metadata": {},
   "source": [
    "<a id='String_Functions'></a>\n",
    "### String Functions\n",
    "Various operation provided in python for <b>Case Conversion</b> of the characters present in the strings \n",
    "- <code>string.lower()</code> Return a copy of the string converted to lowercase\n",
    "- <code>string.upper()</code> Return a copy of the string converted to uppercase\n",
    "- <code>string.capitalize()</code> Returns a copy of the string with the first character converted to uppercase and all other characters converted to lowercase\n",
    "- <code>string.swapcase()</code> Returns a copy of the string with the uppercase characters converted to lowercase and lowercase characters converted to uppercase\n",
    "- <code>string.title()</code> Return a version of the string where each word is titlecased\n",
    "- <code>string.casefold()</code> Return a version of the string suitable for caseless comparisons"
   ]
  },
  {
   "cell_type": "code",
   "execution_count": 109,
   "metadata": {},
   "outputs": [
    {
     "name": "stdout",
     "output_type": "stream",
     "text": [
      "Lowercase String :  this is a sample string\n",
      "Uppercase String :  THIS IS A SAMPLE STRING\n",
      "Capitalize String :  This is a sample string\n",
      "Title String :  This Is A Sample String\n",
      "Swapcase String :  tHIS IS A sAMPLE sTRING\n",
      "Caseless Comparisons String :  this is a sample string\n"
     ]
    }
   ],
   "source": [
    "#case converions functions demo\n",
    "string=\"This is a Sample String\"\n",
    "print(\"Lowercase String : \",string.lower())\n",
    "print(\"Uppercase String : \",string.upper())\n",
    "print(\"Capitalize String : \",string.capitalize())\n",
    "print(\"Title String : \",string.title())\n",
    "print(\"Swapcase String : \",string.swapcase())\n",
    "print(\"Caseless Comparisons String : \",string.casefold())"
   ]
  },
  {
   "cell_type": "markdown",
   "metadata": {},
   "source": [
    " Various operation provided in python to <b>Classify</b> a string based on the characters it contains\n",
    "\n",
    "- <code>string.isalpha()</code> Return True if the string is an alphabetic string(contains only alphabets), False otherwise\n",
    "- <code>string.isalnum()</code> Returns True if string is nonempty and all its characters are alphanumeric (either a letter or a number), and False otherwise\n",
    "- <code>string.isdigit()</code> Return True if the string is a digit string, False otherwise\n",
    "- <code>string.isspace()</code> Return True if the string consists of whitespace characters only, False otherwise\n",
    "- <code>string.isidentifier()</code> Return True if the string is a valid identifier, False otherwise\n",
    "\n",
    "\n",
    "\n",
    "- <code>string.istitle()</code> Return True if the string is in titlecase, False otherwise\n",
    "- <code>string.isupper()</code> Return True if the string is in uppercase, False otherwise\n",
    "- <code>string.islower()</code> Return True if the string is in lowercase, False otherwise\n",
    "\n",
    "\n",
    "- <code>string.isprintable()</code> Return True if the string consists entirely of printable characters, False otherwise\n"
   ]
  },
  {
   "cell_type": "code",
   "execution_count": 110,
   "metadata": {},
   "outputs": [
    {
     "name": "stdout",
     "output_type": "stream",
     "text": [
      "vishal  contains only alphabet ->  True\n",
      "vishal56  contains only alphabet ->  False\n"
     ]
    }
   ],
   "source": [
    "#checking the string(containg user name) is alphabetic or not\n",
    "username=\"vishal\"\n",
    "print(username,\" contains only alphabet -> \",username.isalpha())\n",
    "username=\"vishal56\"\n",
    "print(username,\" contains only alphabet -> \",username.isalpha())"
   ]
  },
  {
   "cell_type": "code",
   "execution_count": 111,
   "metadata": {},
   "outputs": [
    {
     "name": "stdout",
     "output_type": "stream",
     "text": [
      "pass123  is alphanumeric ->  True\n",
      "pass@123  is alphanumeric ->  False\n"
     ]
    }
   ],
   "source": [
    "#checking the string(containg user password) is alphanumeric or not\n",
    "password=\"pass123\"\n",
    "print(password,\" is alphanumeric -> \",password.isalnum())\n",
    "password=\"pass@123\"\n",
    "print(password,\" is alphanumeric -> \",password.isalnum())"
   ]
  },
  {
   "cell_type": "markdown",
   "metadata": {},
   "source": [
    "Various operation provided in python to <b>Find and Replace</b> a given substring in the string\n",
    "\n",
    "- <code>string.find(substring)</code> Return the lowest index in string where substring substring is found,  -1 otherwise\n",
    "- <code>string.index(substring)</code> Return the lowest index in string where substring substring is found, ValueError otherwise\n",
    "- <code>string.rfind(substring)</code> Return the highest index in string where substring substring is found,  -1 otherwise\n",
    "- <code>string.rindex(substring)</code> Return the highest index in string where substring substring is found, ValueError otherwise\n",
    "\n",
    "\n",
    "- <code>string.count(substring)</code> Return the number of non-overlapping occurrences of substring \n",
    "\n",
    "\n",
    "- <code>string.startswith(prefix)</code> Return True if string starts with the specified prefix, False otherwise\n",
    "- <code>string.endswith(suffix)</code> Return True if string ends with the specified suffix, False otherwise\n",
    "\n",
    "\n",
    "- <code>string.replace(old_substring,new_substring,count)</code> Return a copy with all occurrences of substring old_substring replaced by new_substring. If the optional argument count is given, only the first count occurrences are replaced.\n"
   ]
  },
  {
   "cell_type": "code",
   "execution_count": 112,
   "metadata": {},
   "outputs": [
    {
     "name": "stdout",
     "output_type": "stream",
     "text": [
      "Imagine an imaginary menagerie manager managing an imaginary menagerie\n",
      "First occurance of  imaginary 11\n",
      "Last occurance of  imaginary 51\n",
      "Total occurance of  imaginary 2\n"
     ]
    }
   ],
   "source": [
    "#finding occurrences of a given word in the tongue_twister\n",
    "tongue_twister=\"Imagine an imaginary menagerie manager managing an imaginary menagerie\"\n",
    "word=\"imaginary\"\n",
    "print(tongue_twister)\n",
    "print(\"First occurance of \",word,tongue_twister.find(word))\n",
    "print(\"Last occurance of \",word,tongue_twister.rfind(word))\n",
    "print(\"Total occurance of \",word,tongue_twister.count(word))"
   ]
  },
  {
   "cell_type": "code",
   "execution_count": 113,
   "metadata": {},
   "outputs": [
    {
     "data": {
      "text/plain": [
       "'i am a old string'"
      ]
     },
     "execution_count": 113,
     "metadata": {},
     "output_type": "execute_result"
    }
   ],
   "source": [
    "#replacing a word in the string\n",
    "string=\"i am a new string\"\n",
    "string.replace(\"new\",\"old\")"
   ]
  },
  {
   "cell_type": "markdown",
   "metadata": {},
   "source": [
    "Various operation provided in python for <b>String Formatting</b> are \n",
    "\n",
    "- <code>string.rjust(width,fillchar)</code> Return a right-justified string of length width. Padding is done using the specified fill character \n",
    "- <code>string.ljust(width,fillchar)</code> Return a left-justified string of length width. Padding is done using the specified fill character \n",
    "- <code>string.center(width,fillchar)</code> Return a centered string of length width. Padding is done using the specified fill character \n",
    "- <code>string.zfill(width)</code> Pad a numeric string with zeros on the left, to fill a field of the given width\n",
    "\n",
    "\n",
    "\n",
    "- <code>string.rstrip(char)</code> Return a copy of the string with trailing whitespace removed. If chars is given and not None, remove characters in chars instead.\n",
    "- <code>string.lstrip(char)</code> Return a copy of the string with leading whitespace removed. If chars is given and not None, remove characters in chars instead.\n",
    "- <code>string.strip(char)</code> Return a copy of the string with leading and trailing whitespace removed. If chars is given and not None, remove characters in chars instead.\n",
    "\n",
    "- <code>string.expandtabs(tabsize=8)</code> Return a copy where all tab characters are expanded using spaces. If tabsize is not given, a tab size of 8 characters is assumed"
   ]
  },
  {
   "cell_type": "code",
   "execution_count": 114,
   "metadata": {},
   "outputs": [
    {
     "name": "stdout",
     "output_type": "stream",
     "text": [
      "python\n",
      "_________python\n",
      "python_________\n",
      "_____python____\n",
      "000000000python\n"
     ]
    }
   ],
   "source": [
    "#adding justifications in a string\n",
    "string=\"python\"\n",
    "print(string)\n",
    "print(string.rjust(15,\"_\"))\n",
    "print(string.ljust(15,\"_\"))\n",
    "print(string.center(15,\"_\"))\n",
    "print(string.zfill(15))"
   ]
  },
  {
   "cell_type": "code",
   "execution_count": 115,
   "metadata": {
    "scrolled": true
   },
   "outputs": [
    {
     "name": "stdout",
     "output_type": "stream",
     "text": [
      "_____python_____\n",
      "_____python\n",
      "python_____\n",
      "python\n"
     ]
    }
   ],
   "source": [
    "#striping character from string\n",
    "string=\"_____python_____\"\n",
    "print(string)\n",
    "print(string.rstrip('_'))\n",
    "print(string.lstrip('_'))\n",
    "print(string.strip('_'))"
   ]
  },
  {
   "cell_type": "code",
   "execution_count": 116,
   "metadata": {},
   "outputs": [
    {
     "name": "stdout",
     "output_type": "stream",
     "text": [
      "\tpython\n",
      "    python\n"
     ]
    }
   ],
   "source": [
    "#changing the size of tabs\n",
    "string=\"\\tpython\"\n",
    "print(string)\n",
    "print(string.expandtabs(4))"
   ]
  },
  {
   "cell_type": "markdown",
   "metadata": {},
   "source": [
    "Various operation provided in python to <b>Split</b> a given string into the list\n",
    "\n",
    "- <code>string.split(sep,maxsplit)</code> Splits a string into a list of substrings from starting of string. maxsplit represents the maximum number of splits to do. By default maxsplit is -1 which is to split with no limit\n",
    "\n",
    "- <code>string.rsplit(sep,maxsplit)</code> Splits a string into a list of substrings from ending of string. maxsplit represents the maximum number of splits to do. By default maxsplit is -1 which is to split with no limit\n",
    "\n",
    "- <code>string.partition(sep)</code> Partition the string into three parts using the given separator from starting of string.\n",
    "\n",
    "- <code>string.rpartition(sep)</code> Partition the string into three parts using the given separator from ending of string.\n"
   ]
  },
  {
   "cell_type": "code",
   "execution_count": 117,
   "metadata": {},
   "outputs": [
    {
     "name": "stdout",
     "output_type": "stream",
     "text": [
      "1,2,3,4,5,6 | Type  <class 'str'> | Length 11\n",
      "['1', '2', '3', '4', '5', '6'] | Type  <class 'list'> | Length 6\n",
      "['1,2,3', '4', '5', '6'] | Type  <class 'list'> | Length 4\n"
     ]
    }
   ],
   "source": [
    "string=\"1,2,3,4,5,6\"\n",
    "print(string,\"| Type \",type(string), \"| Length\",len(string))\n",
    "print(string.split(\",\"),\"| Type \",type(string.split(\",\")),\"| Length\",len(string.split(\",\")))\n",
    "print(string.rsplit(\",\",3),\"| Type \",type(string.split(\",\",3)),\"| Length\",len(string.split(\",\",3)))"
   ]
  },
  {
   "cell_type": "code",
   "execution_count": 118,
   "metadata": {},
   "outputs": [
    {
     "name": "stdout",
     "output_type": "stream",
     "text": [
      "1,2,3,3,4,5,6\n",
      "('1,2,', '3', ',3,4,5,6')\n",
      "('1,2,3,', '3', ',4,5,6')\n"
     ]
    }
   ],
   "source": [
    "string=\"1,2,3,3,4,5,6\"\n",
    "print(string)\n",
    "print(string.partition(\"3\"))\n",
    "print(string.rpartition(\"3\"))"
   ]
  },
  {
   "cell_type": "markdown",
   "metadata": {},
   "source": [
    "<a id='Converting_String'></a>\n",
    "### Converting List items into a String\n",
    "Python provides join method to create a string from a list or any squence data types.\n",
    "```python\n",
    "string.join(iterable)\n",
    "```\n",
    "where \n",
    "- <i>string </i> is the separator string between elements of iterable object items\n",
    "- <i>iterable</i> is a list, set, sequence, generator. Note iterable must be a sequence of string objects as well\n",
    " \n",
    " \n",
    "Note: The list item must be of type string to combine the items into string using join"
   ]
  },
  {
   "cell_type": "code",
   "execution_count": 119,
   "metadata": {},
   "outputs": [
    {
     "name": "stdout",
     "output_type": "stream",
     "text": [
      "one->two->three->four\n"
     ]
    }
   ],
   "source": [
    "number=[\"one\",\"two\",\"three\",\"four\"]\n",
    "string=\"->\".join(number)\n",
    "print(string)"
   ]
  },
  {
   "cell_type": "markdown",
   "metadata": {},
   "source": [
    "<a id='String_Membership'></a>\n",
    "### String Membership\n",
    "We can use inbuilt membership operator <b>in</b> like <code>sub_string in string</code> and this expression will return True if sub_string is present in the string otherwise False is return."
   ]
  },
  {
   "cell_type": "code",
   "execution_count": 120,
   "metadata": {},
   "outputs": [
    {
     "data": {
      "text/plain": [
       "True"
      ]
     },
     "execution_count": 120,
     "metadata": {},
     "output_type": "execute_result"
    }
   ],
   "source": [
    "#checking the word is present in the given dialogue or not\n",
    "dialogue=\"Either you die a hero or live long enough to see yourself become a villain\"\n",
    "word=\"hero\"\n",
    "word in dialogue"
   ]
  }
 ],
 "metadata": {
  "kernelspec": {
   "display_name": "Python 3",
   "language": "python",
   "name": "python3"
  },
  "language_info": {
   "codemirror_mode": {
    "name": "ipython",
    "version": 3
   },
   "file_extension": ".py",
   "mimetype": "text/x-python",
   "name": "python",
   "nbconvert_exporter": "python",
   "pygments_lexer": "ipython3",
   "version": "3.8.5"
  }
 },
 "nbformat": 4,
 "nbformat_minor": 4
}
