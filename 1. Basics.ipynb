{
 "cells": [
  {
   "cell_type": "markdown",
   "metadata": {},
   "source": [
    "<img src=\"images\\logo.png\" style=\"float: right;\"  width=250 height=250 />\n",
    "\n",
    "# Getting Started with Python\n",
    "\n",
    "- [Output](#Output)\n",
    "- [Comments](#Comments)\n",
    "- [Variables](#Variables)\n",
    "- [Input](#Input)\n",
    "- [Indentaion](#Indentaion)"
   ]
  },
  {
   "cell_type": "markdown",
   "metadata": {},
   "source": [
    "----\n",
    "<a id='Output'></a>\n",
    "## Output \n",
    "<b>print()</b> is used to output the value to the screen/consol.<br>\n",
    "The syntax for print function is :\n",
    "```python\n",
    "print(*objects, sep=' ', end='\\n', file=sys.stdout, flush=False)\n",
    "```\n",
    "where \n",
    "- <i>objects</i> represents the value(s) to be printed.\n",
    "- <i>sep</i> defines the separator used between the values. By default values of objects are separated by space.\n",
    "- <i>end</i> denotes the character to be printed at the end when all objects get printed. By default new line gets is printed after all the objects.\n",
    "- <i>file</i> is the object where the values are printed and its default value is sys.stdout (screen). \n",
    "- <i>flush</i> represent whether the output stream get flushed or not after each print() and by default the output stream is not flush after each print()."
   ]
  },
  {
   "cell_type": "code",
   "execution_count": 1,
   "metadata": {
    "scrolled": true
   },
   "outputs": [
    {
     "name": "stdout",
     "output_type": "stream",
     "text": [
      "Hello world\n"
     ]
    }
   ],
   "source": [
    "print(\"Hello world\")"
   ]
  },
  {
   "cell_type": "markdown",
   "metadata": {},
   "source": [
    "<img src=\"memes/1.jpg\" style=\"float: left;\" width=300, height=300 />"
   ]
  },
  {
   "cell_type": "markdown",
   "metadata": {},
   "source": [
    "----\n",
    "<a id='Comments'></a>\n",
    "## Comments\n",
    "Comments are used to enhance the code readability. They are added with the purpose of making the source code easier for programmers to understand and ignored by the interpreters.\n",
    "\n",
    "\n",
    "<b>#</b> is used for single line comment\n"
   ]
  },
  {
   "cell_type": "code",
   "execution_count": 1,
   "metadata": {},
   "outputs": [
    {
     "name": "stdout",
     "output_type": "stream",
     "text": [
      "x value is :  5\n"
     ]
    }
   ],
   "source": [
    "# declaring a int with value 5\n",
    "x=5\n",
    "print(\"x value is : \",x)"
   ]
  },
  {
   "cell_type": "markdown",
   "metadata": {},
   "source": [
    "<b>\"\"\"   \"\"\"</b> or <b>'''   '''</b> is used for multiline comment"
   ]
  },
  {
   "cell_type": "code",
   "execution_count": 2,
   "metadata": {},
   "outputs": [
    {
     "name": "stdout",
     "output_type": "stream",
     "text": [
      "x value is :  6\n"
     ]
    }
   ],
   "source": [
    "\"\"\"\n",
    "declaring a in with value 5\n",
    "increment the variable by 1\n",
    "\"\"\"\n",
    "x=5\n",
    "x=x+1\n",
    "print(\"x value is : \",x)"
   ]
  },
  {
   "cell_type": "markdown",
   "metadata": {},
   "source": [
    "----\n",
    "<a id='Variables'></a>\n",
    "## Variables\n",
    "Python variable is a symbolic name that is a reference or pointer to an object value and by using the variable name we can access the content of the object.<br>\n",
    "Language like C/C++ is <b>static</b> where we need to declare variable along with their data type beforehand to use the variable as shown below:\n",
    "<br>\n",
    "```c\n",
    "int number;\n",
    "number=5; \n",
    "```\n",
    "Whereas Python is <b>dynamic</b> means we do not have to declare variable name or their type before using them. In python, a variable is created the moment you first assign a value to it.<br>\n",
    "Also, python even allows us to change the type of the variable anywhere in between the program.<br>\n",
    "\n",
    "Python object lifetime is up to the time when it has references more than 0 the moment an object reference becomes 0 the garbage collector will free the memory occupied by the object.\n",
    "\n",
    "To find the data type of any given variable we can use <b>type()</b> using below syntax\n",
    "```python\n",
    "type(variable)\n",
    "```"
   ]
  },
  {
   "cell_type": "code",
   "execution_count": 6,
   "metadata": {
    "scrolled": true
   },
   "outputs": [
    {
     "name": "stdout",
     "output_type": "stream",
     "text": [
      "varibale = 73 | type = <class 'int'>\n"
     ]
    }
   ],
   "source": [
    "#creating a variable with integer value\n",
    "variable=73\n",
    "print(\"varibale =\", variable,\"| type =\",type(variable))"
   ]
  },
  {
   "cell_type": "markdown",
   "metadata": {},
   "source": [
    "<img src=\"images/variable1.PNG\" style=\"float: left;\"  width=300, height=300 />"
   ]
  },
  {
   "cell_type": "code",
   "execution_count": 7,
   "metadata": {},
   "outputs": [
    {
     "name": "stdout",
     "output_type": "stream",
     "text": [
      "varibale = Bazinga! | type = <class 'str'>\n"
     ]
    }
   ],
   "source": [
    "#changing the type of variable directly by assigning the value of different type\n",
    "variable=\"Bazinga!\"  \n",
    "print(\"varibale =\", variable,\"| type =\",type(variable))"
   ]
  },
  {
   "cell_type": "markdown",
   "metadata": {},
   "source": [
    "<img src=\"images/variable2.PNG\" style=\"float: left;\"  width=500, height=500 />"
   ]
  },
  {
   "cell_type": "markdown",
   "metadata": {},
   "source": [
    "In python when we want to create a new variable or want to assign an existing variable with a new value, if the desired new value type object is not already present in the memory then a new object is created with the given value and the reference is given to the variable, otherwise, if new value type object is already present in the memory then the reference to the existing object is given to the variable.<br>\n",
    "\n",
    "Each object is given a unique identity by python and we can check the identity of any variable using \n",
    "build-in method <b>id()</b>"
   ]
  },
  {
   "cell_type": "code",
   "execution_count": 8,
   "metadata": {},
   "outputs": [
    {
     "name": "stdout",
     "output_type": "stream",
     "text": [
      "x = sheldon | type = <class 'str'> | identity = 2761251585072\n"
     ]
    }
   ],
   "source": [
    "x=\"sheldon\"\n",
    "print(\"x =\", x,\"| type =\",type(x), \"| identity =\",id(x))"
   ]
  },
  {
   "cell_type": "markdown",
   "metadata": {},
   "source": [
    "<img src=\"images/variable3.PNG\" style=\"float: left;\"  width=300, height=300 />"
   ]
  },
  {
   "cell_type": "code",
   "execution_count": 9,
   "metadata": {},
   "outputs": [
    {
     "name": "stdout",
     "output_type": "stream",
     "text": [
      "y = sheldon | type = <class 'str'> | identity = 2761251585072\n"
     ]
    }
   ],
   "source": [
    "y=\"sheldon\"\n",
    "print(\"y =\", y,\"| type =\",type(y), \"| identity =\",id(y))"
   ]
  },
  {
   "cell_type": "markdown",
   "metadata": {},
   "source": [
    "<img src=\"images/variable4.PNG\" style=\"float: left;\"  width=400, height=400 />"
   ]
  },
  {
   "cell_type": "code",
   "execution_count": 10,
   "metadata": {},
   "outputs": [
    {
     "name": "stdout",
     "output_type": "stream",
     "text": [
      "x = leonard | type = <class 'str'> | identity = 2761251588720\n"
     ]
    }
   ],
   "source": [
    "x=\"leonard\"\n",
    "print(\"x =\", x,\"| type =\",type(x), \"| identity =\",id(x))"
   ]
  },
  {
   "cell_type": "markdown",
   "metadata": {},
   "source": [
    "<img src=\"images/variable5.PNG\" style=\"float: left;\"  width=350, height=350 />"
   ]
  },
  {
   "cell_type": "markdown",
   "metadata": {},
   "source": [
    "The current implementation keeps an array of integer objects for all integers between -5 and 256, when you create an int in that range you actually just get back a reference to the existing object. So it should be possible to change the value of 1. I suspect the behaviour of Python in this case is undefined."
   ]
  },
  {
   "cell_type": "code",
   "execution_count": 56,
   "metadata": {},
   "outputs": [
    {
     "name": "stdout",
     "output_type": "stream",
     "text": [
      "x id : 140730282487840 & y id: 140730282487840\n",
      "w id : 140730282485408 & v id: 140730282485408\n",
      "a id : 2509054317776 & b id: 2509054317424\n"
     ]
    }
   ],
   "source": [
    "x = 73\n",
    "y = 73\n",
    "w = -3\n",
    "v = -3\n",
    "a = 279\n",
    "b = 279\n",
    "print (\"x id :\",id(x),\"& y id:\",id(y))\n",
    "print (\"w id :\",id(w),\"& v id:\",id(v))\n",
    "print (\"a id :\",id(a),\"& b id:\",id(b))"
   ]
  },
  {
   "cell_type": "code",
   "execution_count": 69,
   "metadata": {},
   "outputs": [
    {
     "name": "stdout",
     "output_type": "stream",
     "text": [
      "string1 id : 2509054330800 & string2 id: 2509054330800\n",
      "string3 id : 2509054453920 & string4 id: 2509054453760\n"
     ]
    }
   ],
   "source": [
    "string1=\"penny\"\n",
    "string2=\"penny\"\n",
    "string3=\"raj koothrapalli\"\n",
    "string4=\"raj koothrapalli\"\n",
    "print (\"string1 id :\",id(string1),\"& string2 id:\",id(string2))\n",
    "print (\"string3 id :\",id(string3),\"& string4 id:\",id(string4))"
   ]
  },
  {
   "cell_type": "markdown",
   "metadata": {},
   "source": [
    "----\n",
    "<a id='Input'></a>\n",
    "## Input\n",
    "<b>input()</b> is used to take input from console.\n",
    "The Syntax for input funtion is :\n",
    "```python\n",
    "input([prompt])\n",
    "```\n",
    "where \n",
    "- <i>prompt</i> is an option argument representing the message to be printed while taking the input\n",
    "\n",
    "input() returns an input value in the form of a string. Typecasting is used to convert the input value to a specific data type."
   ]
  },
  {
   "cell_type": "code",
   "execution_count": 11,
   "metadata": {},
   "outputs": [
    {
     "name": "stdout",
     "output_type": "stream",
     "text": [
      "Enter the value : 5\n",
      "Type of input : <class 'str'>\n"
     ]
    }
   ],
   "source": [
    "value=input(\"Enter the value : \")\n",
    "print(\"Type of input \",type(value),sep=\": \")"
   ]
  },
  {
   "cell_type": "code",
   "execution_count": 12,
   "metadata": {},
   "outputs": [
    {
     "name": "stdout",
     "output_type": "stream",
     "text": [
      "Enter the value : 5\n",
      "Type of input : <class 'int'>\n"
     ]
    }
   ],
   "source": [
    "#typecasting input value into int (integer)\n",
    "value=int(input(\"Enter the value : \"))\n",
    "print(\"Type of input \",type(value),sep=\": \")"
   ]
  },
  {
   "cell_type": "markdown",
   "metadata": {},
   "source": [
    "To take multiple values as input in a single line we use split() as shown below:\n",
    "``` python\n",
    "input().split(sep, maxsplit)\n",
    "```\n",
    "where \n",
    "- <i>sep</i> defines the separator used between the values. By default values of objects are separated by space.\n",
    "- <i>maxsplit</i> denotes the maximum number of split done on the input string, after maximum split is done the remaining input is treated as a single value\n",
    "\n",
    "input().split() returns a list of string"
   ]
  },
  {
   "cell_type": "code",
   "execution_count": 13,
   "metadata": {},
   "outputs": [
    {
     "name": "stdout",
     "output_type": "stream",
     "text": [
      "Enter multiple values : 1 2 3 4 5 6 7\n"
     ]
    },
    {
     "data": {
      "text/plain": [
       "['1', '2', '3', '4 5 6 7']"
      ]
     },
     "execution_count": 13,
     "metadata": {},
     "output_type": "execute_result"
    }
   ],
   "source": [
    "input(\"Enter multiple values : \").split(sep=' ', maxsplit=3)"
   ]
  },
  {
   "cell_type": "markdown",
   "metadata": {},
   "source": [
    "----\n",
    "<a id='Indentaion'></a>\n",
    "## Indentaion\n",
    "- Indentation refers to the spaces at the beginning of a code line<br>\n",
    "- The other programming languages such as C/C++ uses indentation only for code readability purpose<br> \n",
    "- Whereas python is <b>strict indented laguage</b> for which indentation is mendatory<br>\n",
    "- Python languages is designed to use the indentation to signal a block of code which internally remove the need of using  BEGIN, END,{, and } keywords to represents the code block <br>\n",
    "- In python, the number of spaces for indentation is up to you as a programmer, but it has to be at least one and the same number of spaces should be used in the single block of code<br>\n",
    "<img src=\"memes/3.jpg\" style=\"float:left;\"   width=150, height=200 />"
   ]
  },
  {
   "cell_type": "code",
   "execution_count": 14,
   "metadata": {},
   "outputs": [
    {
     "name": "stdout",
     "output_type": "stream",
     "text": [
      "Enter the your name : vishal\n",
      "Access Granted\n"
     ]
    }
   ],
   "source": [
    "name=input(\"Enter the your name : \")\n",
    "if (name == \"vishal\"):\n",
    "    #You entered into if block\n",
    "    print(\"Access Granted\")\n",
    "else :\n",
    "    #You entered into else block\n",
    "    print(\"Access Denied\")"
   ]
  },
  {
   "cell_type": "markdown",
   "metadata": {},
   "source": [
    "<img src=\"memes/4.jpg\" style=\"float:left;\"  width=400 height=500 />"
   ]
  },
  {
   "cell_type": "markdown",
   "metadata": {},
   "source": [
    "----\n",
    "## Interesting Facts\n",
    "Python doesn't force you to terminate each statement with a semicolon.\n",
    "However, it can be used as a separator between multiple statements written in the same line.<br>\n",
    "The <b>semicolone (;)</b> represents empty statement in python."
   ]
  },
  {
   "cell_type": "code",
   "execution_count": 3,
   "metadata": {
    "scrolled": true
   },
   "outputs": [
    {
     "name": "stdout",
     "output_type": "stream",
     "text": [
      "hey there\n"
     ]
    }
   ],
   "source": [
    "#represents two statements. one is print and another is empty statement\n",
    "print(\"hey there\"); "
   ]
  },
  {
   "cell_type": "code",
   "execution_count": 4,
   "metadata": {},
   "outputs": [
    {
     "name": "stdout",
     "output_type": "stream",
     "text": [
      "1st statement\n",
      "2nd statement\n",
      "3rd statement\n"
     ]
    }
   ],
   "source": [
    "#here ; is used to seperate these multiple statements\n",
    "print(\"1st statement\"); print(\"2nd statement\"); print(\"3rd statement\")"
   ]
  }
 ],
 "metadata": {
  "kernelspec": {
   "display_name": "Python 3",
   "language": "python",
   "name": "python3"
  },
  "language_info": {
   "codemirror_mode": {
    "name": "ipython",
    "version": 3
   },
   "file_extension": ".py",
   "mimetype": "text/x-python",
   "name": "python",
   "nbconvert_exporter": "python",
   "pygments_lexer": "ipython3",
   "version": "3.8.5"
  }
 },
 "nbformat": 4,
 "nbformat_minor": 4
}
