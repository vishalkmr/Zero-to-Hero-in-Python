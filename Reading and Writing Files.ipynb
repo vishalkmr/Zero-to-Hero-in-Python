{
 "cells": [
  {
   "cell_type": "markdown",
   "metadata": {},
   "source": [
    "<img src=\"images/files.gif\" style=\"float: right;\" width=250 height=150/>\n",
    "\n",
    "# Reading and Writing Files\n",
    " \n",
    "- [Files Concept](#Files_Concept)\n",
    "- [Opening and Closing a File](#Opening_Closing)\n",
    "- [Writing to Files](#Writing_Files)\n",
    "- [Reading a Files ](#Reading_Files)\n",
    "- [Miscellaneous File Operations](#Miscellaneous_Operations)"
   ]
  },
  {
   "cell_type": "markdown",
   "metadata": {},
   "source": [
    "----\n",
    "<a id='Files_Concept'></a>\n",
    "## Files Concept\n",
    "We have seen variables are the way to store the relevant information, but that information is lost when the program is terminated because variables are stored in RAM which is a volatile memory. So to overcome this by introducing files, which store the information permanently on disk and can be accessed whenever the user desires.\n",
    "\n",
    "So python provides <b>write operations</b> on files so that user can store the information on the files, <b>read operations</b> are provided to access the data from the files which are already created."
   ]
  },
  {
   "cell_type": "markdown",
   "metadata": {},
   "source": [
    "----\n",
    "<a id='Opening_Closing'></a>\n",
    "## Opening and Closing a File\n",
    "When we want to work with files, 1st thing we need to do is open the files. We make use of a built-in function <b>open()</b> to open the file \n",
    "```python\n",
    "file_object=open(file_name,mode,encoding)\n",
    "```\n",
    "- <i>file_name</i> is a string containing the filename along with its path\n",
    "- <i>mode</i> is a string containing a few characters describing how the file will be used\n",
    "-<i>encoding</i> is the name of the encoding used to decode or encode the\n",
    "file. This should only be used in text mode\n",
    "- open function return a <i>file_object</i> through which we can perform various operations on the file\n",
    "\n",
    "Various modes available in python are shown in bellow table\n",
    "\n",
    "|Mode|Description| \n",
    "|----|----|\n",
    "|<b>r</b> | Opens a file for reading. (default)\n",
    "|<b>w </b>| Opens a file for writing. Creates a new file if it does not exist or truncates the file if it exists.\n",
    "|<b>x </b>| Opens a file for exclusive creation. If the file already exists, the operation fails.\n",
    "|<b>a </b>| Opens a file for appending at the end of the file without truncating it. Creates a new file if it does not exist.\n",
    "|<b>t </b>| Opens in text mode. (default)\n",
    "|<b>b </b>| Opens in binary mode.\n",
    "|<b>+ </b>| Opens a file for updating (reading and writing)\n",
    "\n",
    "<br><br>\n",
    "\n",
    "Once we are done performing operations on the file, we need to properly close the file. Closing a file will free up the resources that were tied with the file. It is done using a in-built function <b>close()</b> available in Python.\n",
    "```python\n",
    "file_object.close()\n",
    "```\n",
    "This will close the file corresponding to the file object"
   ]
  },
  {
   "cell_type": "code",
   "execution_count": 1,
   "metadata": {},
   "outputs": [
    {
     "name": "stdout",
     "output_type": "stream",
     "text": [
      "File operation completed\n"
     ]
    }
   ],
   "source": [
    "try:\n",
    "    file= open(\"sample_file.txt\", encoding = 'utf-8')\n",
    "    #file operations\n",
    "except Exception as e:\n",
    "    print(e)\n",
    "else:\n",
    "    #if file is open successfully then close it\n",
    "    file.close()\n",
    "finally:\n",
    "    print(\"File operation completed\")"
   ]
  },
  {
   "cell_type": "markdown",
   "metadata": {},
   "source": [
    "By performing the close operation in the <b>else block</b> as shown above, we are assured that file will be closed after the  file operations are done successfuly."
   ]
  },
  {
   "cell_type": "code",
   "execution_count": 2,
   "metadata": {},
   "outputs": [
    {
     "name": "stdout",
     "output_type": "stream",
     "text": [
      "File operation completed\n"
     ]
    }
   ],
   "source": [
    "try:\n",
    "    with open(\"sample_file.txt\", encoding = 'utf-8') as file:\n",
    "        #file operations\n",
    "        pass\n",
    "except Exception as e:\n",
    "    print(e)\n",
    "finally:\n",
    "    print(\"File operation completed\")"
   ]
  },
  {
   "cell_type": "markdown",
   "metadata": {},
   "source": [
    "The best way to close a file is by using the <b>with</b> statement as shown in the above code block. This ensures that the file is closed when the block inside the with statement is exited. Here we didn't need to explicitly call the close() method. It is done internally"
   ]
  },
  {
   "cell_type": "markdown",
   "metadata": {},
   "source": [
    "----\n",
    "<a id='Writing_Files'></a>\n",
    "## Writing to Files \n",
    "\n",
    "In order to write into a file in Python, we need to open it in write(w), append(a) or exclusive create(x) mode.\n",
    "\n",
    "We need to be careful with the w mode, as it will overwrite the file if it already exists. Due to this, all the previous data are erased\n",
    "\n",
    "The ways to write into the file are :\n",
    "- <code>file_object.write(string)</code> Write string to file, Returns the number of characters written \n",
    "- <code>file_object.writelines(seq)</code> This writes the sequence(list of string) to the file. No line endings are appended to each sequence item. It’s up to you to add the appropriate line ending(s)"
   ]
  },
  {
   "cell_type": "code",
   "execution_count": 3,
   "metadata": {},
   "outputs": [],
   "source": [
    "with open(\"sample_file.txt\",'w') as file:\n",
    "    file.write(\"Writing to the test file\")\n",
    "    \n",
    "    lines=[]\n",
    "    for i in range(1,5):\n",
    "        lines.append(\"\\nLine number \"+str(i))\n",
    "    file.writelines(lines)"
   ]
  },
  {
   "cell_type": "markdown",
   "metadata": {},
   "source": [
    "----\n",
    "<a id='Reading_Files'></a>\n",
    "## Reading a Files \n",
    "\n",
    "To read a file in Python, we must open the file in reading(r) mode\n",
    "\n",
    "We need to be careful with the w mode, as it will overwrite into the file if it already exists. Due to this, all the previous data are erased\n",
    "\n",
    "The ways to read from a file are :\n",
    "- <code>file_object.read(size)</code> Reads from the file based on the number of <i>size</i> bytes. If no argument is passed or None or -1 is passed, then the entire file is read\n",
    "- <code>file_object.readline(size)</code> This reads at most <i>size</i> number of characters from the line. This continues to the end of the line and then jump to the next line (means it behaves just like read() for a line ). If no argument is passed or None or -1 is passed, then the entire line is read\n",
    "- <code>file_object.readlines()</code> This reads the remaining lines from the file object and returns them as a list"
   ]
  },
  {
   "cell_type": "code",
   "execution_count": 4,
   "metadata": {},
   "outputs": [
    {
     "name": "stdout",
     "output_type": "stream",
     "text": [
      "Writing\n",
      " to\n",
      " the test file\n",
      "Line number 1\n",
      "Line number 2\n",
      "Line number 3\n",
      "Line number 4\n"
     ]
    }
   ],
   "source": [
    "with open(\"sample_file.txt\",'r') as file:\n",
    "    content=file.read(7) # reading 1st 7 characters from file\n",
    "    print(content)\n",
    "    \n",
    "    content=file.read(3) # reading next 3 characherts\n",
    "    print(content)\n",
    "    \n",
    "    content=file.read() # reading rest of the file content\n",
    "    print(content)"
   ]
  },
  {
   "cell_type": "code",
   "execution_count": 5,
   "metadata": {},
   "outputs": [
    {
     "name": "stdout",
     "output_type": "stream",
     "text": [
      "Writing to the test file\n",
      "\n",
      "Line \n",
      "number 1\n",
      "\n",
      "Line number 2\n",
      "\n"
     ]
    }
   ],
   "source": [
    "with open(\"sample_file.txt\",'r') as file:\n",
    "    content=file.readline() # reading 1st line from file\n",
    "    print(content)\n",
    "    \n",
    "    content=file.readline(5) # reading 5 characherts from 2nd line\n",
    "    print(content)\n",
    "    \n",
    "    content=file.readline() # reading rest of the charachter from line 2\n",
    "    print(content)\n",
    "    \n",
    "    content=file.readline() #reading 3rd line from file\n",
    "    print(content)"
   ]
  },
  {
   "cell_type": "code",
   "execution_count": 6,
   "metadata": {},
   "outputs": [
    {
     "name": "stdout",
     "output_type": "stream",
     "text": [
      "Writing to the test file\n",
      "\n",
      "Line number 1\n",
      "\n",
      "Line number 2\n",
      "\n",
      "Line number 3\n",
      "\n",
      "Line number 4\n"
     ]
    }
   ],
   "source": [
    "with open(\"sample_file.txt\",'r') as file:\n",
    "    content=file.readlines() # reading all the lines of the file\n",
    "    for line in content:\n",
    "        print(line)"
   ]
  },
  {
   "cell_type": "markdown",
   "metadata": {},
   "source": [
    "----\n",
    "<a id='Miscellaneous_Operations'></a>\n",
    "## Miscellaneous File Operations\n",
    "There are various other operations which can be performed on file object such as:\n",
    "\n",
    "\n",
    "- <code>file_object.name</code> Returns the name of the file\n",
    "\n",
    "- <code>file_object.mode</code> Returns the mode of the file\n",
    "\n",
    "- <code>file_object.closed</code> Returns True if file is closed\n",
    "\n",
    "- <code>file_object.seekable()</code> Returns True if the file stream supports random access\n",
    "\n",
    "- <code>file_object.writable()</code> Returns True if the file can be written \n",
    "\n",
    "- <code>file_object.tell()</code> Return current stream position\n",
    "\n",
    "- <code>file_object.seek()</code> Change the stream position to the given byte offset\n",
    "\n",
    "- <code>file_object.isatty()</code> Returns True if the file stream is interactive\n",
    "\n",
    "- <code>file_object.truncate(size)</code> Resizes the file stream to <i>size</i> bytes . If size is not specified, resizes to current location. This truncate method is valid for writable files only\n",
    "\n",
    "- <code>file_object.fileno()</code> Returns an integer number for underlying file descriptor if one exists\n",
    "\n",
    "- <code>file_object.flush()</code> Flush write buffers, if applicable\n"
   ]
  },
  {
   "cell_type": "code",
   "execution_count": 7,
   "metadata": {},
   "outputs": [
    {
     "name": "stdout",
     "output_type": "stream",
     "text": [
      "File name :  sample_file.txt\n",
      "File mode :  r\n",
      "Is file is closed :  False\n",
      "Is file is writable : False\n",
      "Is file is seekable :  True\n",
      "Is file is interactive :  False\n",
      "Current position of file pointer :  0\n",
      "Current position of file pointer is changed to :  10\n"
     ]
    }
   ],
   "source": [
    "with open(\"sample_file.txt\",'r') as file:    \n",
    "    print(\"File name : \",file.name)\n",
    "    print(\"File mode : \",file.mode)\n",
    "    print(\"Is file is closed : \",file.closed)\n",
    "    print(\"Is file is writable :\",file.writable())\n",
    "    print(\"Is file is seekable : \",file.seekable())\n",
    "    print(\"Is file is interactive : \",file.isatty())\n",
    "    print(\"Current position of file pointer : \",file.tell())\n",
    "    file.seek(10) # seeking to 10th characher of the file\n",
    "    print(\"Current position of file pointer is changed to : \",file.tell())"
   ]
  }
 ],
 "metadata": {
  "kernelspec": {
   "display_name": "Python 3",
   "language": "python",
   "name": "python3"
  },
  "language_info": {
   "codemirror_mode": {
    "name": "ipython",
    "version": 3
   },
   "file_extension": ".py",
   "mimetype": "text/x-python",
   "name": "python",
   "nbconvert_exporter": "python",
   "pygments_lexer": "ipython3",
   "version": "3.8.5"
  }
 },
 "nbformat": 4,
 "nbformat_minor": 4
}
