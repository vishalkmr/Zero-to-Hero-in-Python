{
 "cells": [
  {
   "cell_type": "markdown",
   "metadata": {},
   "source": [
    "# Control Flow\n",
    "<img src=\"images/control_flow.gif\" style=\"float: right;\" width=650 height=650/>\n",
    "\n",
    "- [Conditional Statements](#Conditional_Statements)\n",
    "    - [if](#if)\n",
    "    - [if .. else](#if_else)\n",
    "    - [if .. elif .. else](#if_elif_else)\n",
    "    - [Nested if](#Nested_if)\n",
    "    - [switch](#switch) \n",
    "- [Iterative Statements](#Iterative_Statements)\n",
    "    - [for loop](#for)\n",
    "    - [while loop](#while)\n",
    "- [Functions](#Functions)\n",
    "    - [Arguments Passing](#Arguments_Passing)\n",
    "    - [Default Arguments](#Default_Arguments)\n",
    "    - [Positional & Keyword Arguments](#Positional_Keyword_Arguments)\n",
    "    - [Variable-Length Arguments](#Variable_Length_Arguments)\n",
    "    - [Docstrings](#Docstrings)\n",
    "    - [Lambda Functions](#Lambda_Functions)     \n",
    "    - [Global, Local and Nonlocal Variables](#Global_Local_Nonlocal_Variables)"
   ]
  },
  {
   "cell_type": "markdown",
   "metadata": {},
   "source": [
    "----\n",
    "<a id='Conditional_Statements'></a>\n",
    "## Conditional Statements \n",
    "Executes a set of statements depending on the value of an expression called conditional expression."
   ]
  },
  {
   "cell_type": "markdown",
   "metadata": {},
   "source": [
    "<a id='if'></a> <img src=\"images/if.PNG\" style=\"float: right;\"  width=200 height=200 />\n",
    "### if \n",
    "```python\n",
    "if conditional_expression :\n",
    "    if_block_statements\n",
    "```\n",
    "Executes the set of statements mentioned in if_block_statements if the conditional_expression is true.\n"
   ]
  },
  {
   "cell_type": "code",
   "execution_count": 1,
   "metadata": {},
   "outputs": [],
   "source": [
    "#finding that if a number is divisible by 2 and 5\n",
    "number=10\n",
    "\n",
    "if number%2==0 and number%5==0:\n",
    "    print(\"Number is divisible by 2 and 5\")"
   ]
  },
  {
   "cell_type": "markdown",
   "metadata": {},
   "source": [
    "<a id='if_else'></a>\n",
    "### if..else  <img src=\"images/if_else.PNG\" style=\"float: right;\"  width=300 height=300 />\n",
    "```python\n",
    "if conditional_expression :\n",
    "    if_block_statements\n",
    "else:\n",
    "    else_block_statements\n",
    "```\n",
    "Executes the set of statements mentioned in if_block_statements if the conditional_expression is true, otherwise execute statements mentioned in else_block_statements.\n"
   ]
  },
  {
   "cell_type": "code",
   "execution_count": 2,
   "metadata": {},
   "outputs": [
    {
     "name": "stdout",
     "output_type": "stream",
     "text": [
      "Number is Odd\n"
     ]
    }
   ],
   "source": [
    "#finding that if a number is even or odd\n",
    "number=5\n",
    "\n",
    "if number%2==0:\n",
    "    print(\"Number is Even\")\n",
    "else:\n",
    "    print(\"Number is Odd\")"
   ]
  },
  {
   "cell_type": "markdown",
   "metadata": {},
   "source": [
    "<a id='if_elif_else'></a>\n",
    "### if...elif...else  <img src=\"images/if_elif_else.PNG\" style=\"float: right;\"  width=350 height=350 />\n",
    "```python\n",
    "if conditional_expression :\n",
    "    if_block_statements\n",
    "elif conditional_expression :\n",
    "    elseif_block_statements\n",
    ".\n",
    ".\n",
    "else:\n",
    "    else_block_statements\n",
    "    \n",
    "```\n",
    "Executes the set of statements mentioned in if_block_statements when the conditional_expression for if is True, otherwise execute statements mentioned in elif_block_statements when the conditional_expression for elif is True. If all the conditional_expression are False, else_block_statements executes."
   ]
  },
  {
   "cell_type": "code",
   "execution_count": 3,
   "metadata": {},
   "outputs": [
    {
     "name": "stdout",
     "output_type": "stream",
     "text": [
      "Number is Negative\n"
     ]
    }
   ],
   "source": [
    "#check whether the number is positive, negative or zero\n",
    "number=-2\n",
    "\n",
    "if number==0:\n",
    "    print(\"Number is 0\")\n",
    "elif number>0:\n",
    "    print(\"Number is Positive\")\n",
    "else:\n",
    "    print(\"Number is Negative\")"
   ]
  },
  {
   "cell_type": "markdown",
   "metadata": {},
   "source": [
    "<a id='Nested_if'></a>\n",
    "### Nested if  <img src=\"images/nested_if.png\" style=\"float: right;\"  width=420 height=420 />\n",
    "```python\n",
    "if conditional_expression :\n",
    "    if conditional_expression :\n",
    "        if_block_statements\n",
    "    else:\n",
    "        else_block_statements\n",
    "else:\n",
    "    if conditional_expression :\n",
    "        if_block_statements\n",
    "    else:\n",
    "        else_block_statements    \n",
    "     \n",
    "    \n",
    "```\n",
    "The if_block_statements, elif_block_statements and else_block_statements mentioned in the previous section can be replaced by any form of if statements to form nested if statements."
   ]
  },
  {
   "cell_type": "code",
   "execution_count": 4,
   "metadata": {},
   "outputs": [
    {
     "name": "stdout",
     "output_type": "stream",
     "text": [
      "Number is Positive and Odd\n"
     ]
    }
   ],
   "source": [
    "#check whether the number is even or odd alongwith its polarity\n",
    "number=7\n",
    "\n",
    "if number>0:\n",
    "    print(\"Number is Positive\",end=\" \")\n",
    "    if number%2==0:\n",
    "        print(\"and Even\")\n",
    "    else:\n",
    "        print(\"and Odd\")\n",
    "else:\n",
    "    print(\"Number is Negative\",end=\" \")\n",
    "    if number%2==0:\n",
    "        print(\"and Even\")\n",
    "    else:\n",
    "        print(\"and Odd\")"
   ]
  },
  {
   "cell_type": "markdown",
   "metadata": {},
   "source": [
    "<a id='switch'></a>\n",
    "### switch <img src=\"images/switch.png\" style=\"float: right;\"  width=220 />\n",
    "Python doesn't have a switch/case statement because of Unsatisfactory Proposals. Nobody has been able to suggest an implementation that works well with Python's syntax and established coding style.\n",
    "\n",
    "\n",
    "In python to implement the logic equivalent to switch, we can use the concept of dictionaries."
   ]
  },
  {
   "cell_type": "code",
   "execution_count": 5,
   "metadata": {},
   "outputs": [
    {
     "name": "stdout",
     "output_type": "stream",
     "text": [
      "Thursday\n",
      "Not a Valid Day\n"
     ]
    }
   ],
   "source": [
    "def switch(case):\n",
    "    days_switch={\n",
    "        1:\"Monday\",\n",
    "        2:\"Tuesday\",\n",
    "        3:\"Wednesday\",\n",
    "        4:\"Thursday\",\n",
    "        5:\"Fryday\",\n",
    "        6:\"Saturday\",\n",
    "        7:\"Sunday\"\n",
    "    }\n",
    "    return days_switch.get(case,\"Not a Valid Day\")\n",
    "\n",
    "print(switch(4))\n",
    "print(switch(9))"
   ]
  },
  {
   "cell_type": "markdown",
   "metadata": {},
   "source": [
    "----\n",
    "<a id='Iterative_Statements'></a>\n",
    "## Iterative Statements \n",
    "Repeat the execution of a set of statements depending on the value of an expression. "
   ]
  },
  {
   "cell_type": "markdown",
   "metadata": {},
   "source": [
    "Python provides <b>iter()</b> method to obtain an iterator from an iterable object. Using that iterator we can access the members of the iterable object through <b>next()</b> method which will return the next member in the iterator each time.\n",
    "```python\n",
    "iterator=iter(iterable)\n",
    "next(iterator)\n",
    "```"
   ]
  },
  {
   "cell_type": "code",
   "execution_count": 6,
   "metadata": {},
   "outputs": [
    {
     "name": "stdout",
     "output_type": "stream",
     "text": [
      "1\n",
      "2\n"
     ]
    }
   ],
   "source": [
    "numbers=[1,2,3,4,5]\n",
    "number=iter(numbers)\n",
    "\n",
    "print(next(number))\n",
    "print(next(number))"
   ]
  },
  {
   "cell_type": "markdown",
   "metadata": {},
   "source": [
    "<a id='for'></a>\n",
    "### for loop <img src=\"images/for_loop.PNG\" style=\"float: right;\"  width=320 />\n",
    "The for loop in Python is used to iterate over a sequence (list, tuple, string) or other iterable objects.\n",
    "```python\n",
    "for member in iterable:\n",
    "    body_of_loop\n",
    "```\n",
    "\n",
    "- <b>iterable</b> is a collection of objects such as a list, tuple, string other iterable objects\n",
    "\n",
    "- The loop variable <b>member</b> takes on the value of the next element in iterable object each time through the loop\n",
    "\n",
    "- The <b>body_of_loop</b> represents the set of statements which are executed once for each member in iterable object\n",
    "\n",
    "\n",
    "To carry out the iterations in python, for loop internally calls iter() to obtain an iterator of the iterable object and then calls next() repeatedly to obtain items from the iterator and assign it to the loop variable called member. And the loop is terminated when next() raises the StopIteration exception.\n",
    "<img src=\"images/python_for_loop.PNG\"   width=420 />"
   ]
  },
  {
   "cell_type": "code",
   "execution_count": 7,
   "metadata": {},
   "outputs": [
    {
     "name": "stdout",
     "output_type": "stream",
     "text": [
      "Number Value : 1\n",
      "Square of Number : 1\n",
      "Number Value : 2\n",
      "Square of Number : 4\n",
      "Number Value : 3\n",
      "Square of Number : 9\n",
      "Number Value : 4\n",
      "Square of Number : 16\n",
      "Number Value : 5\n",
      "Square of Number : 25\n"
     ]
    }
   ],
   "source": [
    "numbers=[1,2,3,4,5]\n",
    "\n",
    "for number in numbers:\n",
    "    print(\"Number Value :\",number)\n",
    "    print(\"Square of Number :\",number**2)"
   ]
  },
  {
   "cell_type": "markdown",
   "metadata": {},
   "source": [
    "We can also use <b>range()</b> function to generate the set of value / sequence within a given range.<br>\n",
    "Syntax of this funtion is <code>range(start,stop,step_size)</code> <br>\n",
    "- where <i>start</i> represents the starting value of the range, it is an option parameter whose value is 0 by default\n",
    "- <i>stop</i> represents the value uptill which we want to genreate the sequence excuding the stop value\n",
    "- <i>step_size</i> represetns the steps in which value are taken from start to stop, it is an option parameter whose value is 1 by default"
   ]
  },
  {
   "cell_type": "code",
   "execution_count": 8,
   "metadata": {},
   "outputs": [
    {
     "name": "stdout",
     "output_type": "stream",
     "text": [
      "Number Value : 0\n",
      "Number Value : 1\n",
      "Number Value : 2\n",
      "Number Value : 3\n",
      "Number Value : 4\n"
     ]
    }
   ],
   "source": [
    "for number in range(0,5,1):\n",
    "    print(\"Number Value :\",number)"
   ]
  },
  {
   "cell_type": "code",
   "execution_count": 9,
   "metadata": {},
   "outputs": [
    {
     "name": "stdout",
     "output_type": "stream",
     "text": [
      "Number Value : 1\n",
      "Number Value : 3\n",
      "Number Value : 5\n",
      "Number Value : 7\n",
      "Number Value : 9\n"
     ]
    }
   ],
   "source": [
    "for number in range(1,10,2):\n",
    "    print(\"Number Value :\",number)"
   ]
  },
  {
   "cell_type": "markdown",
   "metadata": {},
   "source": [
    "Python provide two keywords <b>break</b> and <b>continue</b> to alter the flow of control in the loops.\n",
    "\n",
    "The <b>break</b> statement terminates the loop containing it and the control of the program is transferred to the statement immediately after the body of the loop. If the break statement is inside a nested loop, then the break statement will terminate the innermost loop.\n",
    "\n",
    "The <b>continue</b> statement is used to skip the rest of the code inside the body of the loop for the current iteration only. Loop does not terminate but continues on with the next iteration."
   ]
  },
  {
   "cell_type": "code",
   "execution_count": 10,
   "metadata": {},
   "outputs": [
    {
     "name": "stdout",
     "output_type": "stream",
     "text": [
      "1\n",
      "2\n",
      "4\n",
      "5\n",
      "7\n",
      "8\n",
      "10\n"
     ]
    }
   ],
   "source": [
    "for number in range(20):\n",
    "    #don't process the numbers which are divisible by three\n",
    "    if number%3==0:\n",
    "        continue\n",
    "    \n",
    "    #stop the loop if number 11 is reached\n",
    "    if number==11:\n",
    "        break\n",
    "        \n",
    "    print(number)"
   ]
  },
  {
   "cell_type": "markdown",
   "metadata": {},
   "source": [
    "A <b>for</b> loop can have an optional <b>else</b> block as well. The else block represents the code to be executed if all the items in sequence are processed.\n",
    "\n",
    "If break keyword is used in the loop for termination then in that case all the elements are not iterated thus the if block code doesn't execute if the loop is terminated by a break statement\n"
   ]
  },
  {
   "cell_type": "code",
   "execution_count": 11,
   "metadata": {},
   "outputs": [
    {
     "name": "stdout",
     "output_type": "stream",
     "text": [
      "0\n",
      "1\n",
      "2\n",
      "3\n",
      "4\n",
      "All the numbers are printed\n"
     ]
    }
   ],
   "source": [
    "for number in range(5):\n",
    "    print(number)\n",
    "else:\n",
    "    print(\"All the numbers are printed\")"
   ]
  },
  {
   "cell_type": "markdown",
   "metadata": {},
   "source": [
    "<a id='while'></a>\n",
    "### while loop <img src=\"images/while_loop.PNG\" style=\"float: right;\"  width=320 />\n",
    "The while loop in Python is used to iterate over a block of code as long as the expression (loop condition) is True.\n",
    "```python\n",
    "while expression:\n",
    "    body_of_loop\n",
    "```\n",
    "Statements of body_of_loop is executed as long as the <b>expression</b> value is True.\n"
   ]
  },
  {
   "cell_type": "code",
   "execution_count": 12,
   "metadata": {},
   "outputs": [
    {
     "data": {
      "text/plain": [
       "55"
      ]
     },
     "execution_count": 12,
     "metadata": {},
     "output_type": "execute_result"
    }
   ],
   "source": [
    "# while loop to calculate sum of n natural number\n",
    "n=10\n",
    "result=0\n",
    "\n",
    "while n!=0:\n",
    "    result+=n\n",
    "    n-=1\n",
    "result"
   ]
  },
  {
   "cell_type": "markdown",
   "metadata": {},
   "source": [
    "A <b>while</b> loop can have an optional <b>else</b> block as well. The else block represents the code to be executed if the expression value becomes False.\n",
    "\n",
    "If break keyword is used in the loop for termination then in that case the expression remains Tue even loop is terminated thus the if block code doesn't execute if the loop is terminated by a break statement."
   ]
  },
  {
   "cell_type": "code",
   "execution_count": 13,
   "metadata": {},
   "outputs": [
    {
     "name": "stdout",
     "output_type": "stream",
     "text": [
      "inside while loop\n",
      "inside while loop\n",
      "inside while loop\n",
      "inside while loop\n",
      "inside while loop\n",
      "inside else block\n"
     ]
    }
   ],
   "source": [
    "flag=True\n",
    "number=5\n",
    "\n",
    "while flag:\n",
    "    print(\"inside while loop\")\n",
    "    number-=1\n",
    "    \n",
    "    if number==0:\n",
    "        flag=False\n",
    "else:\n",
    "    print(\"inside else block\")"
   ]
  },
  {
   "cell_type": "markdown",
   "metadata": {},
   "source": [
    "Python provides functionality to write while loops in one line using the syntax mentioned bellow \n",
    "```python\n",
    "while expression : statement1 ; statement2; ...;statement N\n",
    "```"
   ]
  },
  {
   "cell_type": "code",
   "execution_count": 14,
   "metadata": {},
   "outputs": [
    {
     "data": {
      "text/plain": [
       "55"
      ]
     },
     "execution_count": 14,
     "metadata": {},
     "output_type": "execute_result"
    }
   ],
   "source": [
    "n=10\n",
    "result=0\n",
    "\n",
    "#while loop to compute sum of n natural number\n",
    "while n!=0: result += n; n -= 1\n",
    "\n",
    "result"
   ]
  },
  {
   "cell_type": "markdown",
   "metadata": {},
   "source": [
    "----\n",
    "<a id='Functions'></a>\n",
    "## Functions\n",
    "- Function is a self-contained block of code that encapsulates a specific task or related group of tasks. <br>\n",
    "- Functions are used to provide Abstraction , Modularity and Code Reusability.<br>\n",
    "<img src=\"images/function.PNG\"  width=420  height=420 />\n",
    "<br>\n",
    "- The keyword <b>def</b> introduces a function definition. It must be followed by the function name and the parenthesized list of formal arguments. The statements that form the body of the function start at the next line, and must be indented.<br>\n",
    "```python\n",
    "def function_name(function_arguments):\n",
    "    \"function docstring containing function description\"\n",
    "    body_of_the_function\n",
    "    return values\n",
    "```\n",
    "- The first statement of the function body can optionally be a string literal; this string literal is the function’s documentation string, or <b>docstring</b>.\n",
    "- Functions can take any number of <b>arguments</b> and the arguments in python are passed as <i>Pass-By-Assignment</i>.\n",
    "- <b>Pass-By-Assignment</b> means depending on the type of arguments passed we can determine that whether the modification is done in the value of formal arguments in the function body can affect the value of actual arguments or not.\n",
    "- Function can <b>return</b> list of values which are packed into the form of a tuple. If no return statement is used in function then by default a None value is returned by the function."
   ]
  },
  {
   "cell_type": "code",
   "execution_count": 15,
   "metadata": {},
   "outputs": [],
   "source": [
    "# function definition to define a function named even to find whether the passed number is even or not\n",
    "def even(number):\n",
    "    \"Returns True if for even number else returns False\"\n",
    "    flag=False\n",
    "    if number%2==0:\n",
    "        flag=True\n",
    "    number=5\n",
    "    return flag"
   ]
  },
  {
   "cell_type": "code",
   "execution_count": 16,
   "metadata": {},
   "outputs": [
    {
     "data": {
      "text/plain": [
       "True"
      ]
     },
     "execution_count": 16,
     "metadata": {},
     "output_type": "execute_result"
    }
   ],
   "source": [
    "number=8\n",
    "\n",
    "#function call with an argument number\n",
    "even(number)"
   ]
  },
  {
   "cell_type": "markdown",
   "metadata": {},
   "source": [
    "A function definition associates the function name with the function object in the current symbol table. The interpreter recognizes the object pointed to by that name as a user-defined function. Other names can also point to that same function object and can also be used to access the function"
   ]
  },
  {
   "cell_type": "code",
   "execution_count": 17,
   "metadata": {},
   "outputs": [
    {
     "name": "stdout",
     "output_type": "stream",
     "text": [
      "Name : <function even at 0x000001591C15A1F0> | Type : <class 'function'>\n",
      "True\n",
      "Name : <function even at 0x000001591C15A1F0> | Type : <class 'function'>\n"
     ]
    }
   ],
   "source": [
    "print(\"Name :\",even,\"| Type :\",type(even))\n",
    "function=even\n",
    "print(function(number))\n",
    "print(\"Name :\",function,\"| Type :\",type(function))"
   ]
  },
  {
   "cell_type": "markdown",
   "metadata": {},
   "source": [
    "<a id='Arguments_Passing'></a>\n",
    "## Arguments Passing"
   ]
  },
  {
   "cell_type": "markdown",
   "metadata": {},
   "source": [
    "**Immutable objects**, like an int, str, tuple, or frozenset is passed as arguments then the arguments act like <b>Pass-By-Value</b><br> means the value of formal arguments can't affect the value of actual arguments"
   ]
  },
  {
   "cell_type": "code",
   "execution_count": 18,
   "metadata": {},
   "outputs": [
    {
     "name": "stdout",
     "output_type": "stream",
     "text": [
      "inside the main program\n"
     ]
    }
   ],
   "source": [
    "def function(formal_value):\n",
    "    #modification in the value of formal arguments\n",
    "    formal_value=\"inside the function\" \n",
    "    \n",
    "actual_value=\"inside the main program\"\n",
    "function(actual_value)\n",
    "\n",
    "print(actual_value)"
   ]
  },
  {
   "cell_type": "markdown",
   "metadata": {},
   "source": [
    "**Mutable objects** such as a list, dict, or set is passed as function arguments then the arguments act like <b>Pass-By-Refrence</b><br> means the value of formal arguments can affect the value of actual arguments"
   ]
  },
  {
   "cell_type": "code",
   "execution_count": 19,
   "metadata": {},
   "outputs": [
    {
     "name": "stdout",
     "output_type": "stream",
     "text": [
      "['one', 'two', 'three']\n"
     ]
    }
   ],
   "source": [
    "def function(formal_list):\n",
    "    #modification in the value of formal arguments\n",
    "    formal_list[0]=\"one\"\n",
    "    formal_list[1]=\"two\"\n",
    "    formal_list[2]=\"three\"\n",
    "    \n",
    "    \n",
    "actual_list=[1,2,3]\n",
    "function(actual_list)\n",
    "\n",
    "print(actual_list)"
   ]
  },
  {
   "cell_type": "markdown",
   "metadata": {},
   "source": [
    "<a id='Default_Arguments'></a>\n",
    "## Default Arguments \n",
    "If an argument value is specified in a python function definition using an assignment operator then that values become a default value for that argument, and that argument is considered as an optional argument, which means if the value is not specified in the function call the default value is used."
   ]
  },
  {
   "cell_type": "code",
   "execution_count": 20,
   "metadata": {},
   "outputs": [
    {
     "name": "stdout",
     "output_type": "stream",
     "text": [
      "1250.0\n",
      "1500.0\n",
      "1500.0\n"
     ]
    }
   ],
   "source": [
    "#defining a function with some default values\n",
    "def simple_interest(p,r=.05,t=5):\n",
    "    return p*(1+r*t)\n",
    "\n",
    "#passing only required argument\n",
    "print(simple_interest(1000))\n",
    "\n",
    "#passing the value in positional order\n",
    "print(simple_interest(1000,.1))\n",
    "\n",
    "#passing the value in user defined order by using keyword e.i. arguments name \n",
    "print(simple_interest(p=1000,t=10))"
   ]
  },
  {
   "cell_type": "markdown",
   "metadata": {},
   "source": [
    "<a id='Positional_Keyword_Arguments'></a>\n",
    "## Positional & Keyword Arguments\n",
    "Arguments whose values are defined using argument sequence (position) as defined in the function defination are called <b>Positional Arguments</b><br>\n",
    "\n",
    "Arguments whose values are defined using argument name (keyword) with the value in function call are called <b>Keyword Arguments</b> <br>\n",
    "\n",
    "All the positional arguments in a function call must appear before any keyword arguments otherwise we will get an error stating <i>\"positional argument follows keyword argument\"</i>"
   ]
  },
  {
   "cell_type": "code",
   "execution_count": 21,
   "metadata": {},
   "outputs": [
    {
     "name": "stdout",
     "output_type": "stream",
     "text": [
      "1 -> 2 -> 3 -> 4\n",
      "1 -> 2 -> 3 -> 4\n",
      "1 -> 2 -> 3 -> 4\n",
      "1 -> 2 -> 3 -> 4\n"
     ]
    }
   ],
   "source": [
    "# here a & b & c & d are by default positional arguments but can be changed to keyword arguments \n",
    "def display(a,b,c,d):\n",
    "    print(a,\"->\",b,\"->\",c,\"->\",d)\n",
    "    \n",
    "display(1,2,3,4) #a,b,c,d all are positional arguments\n",
    "display(1,2,d=4,c=3) #d and c are keyword arguments\n",
    "display(1,d=4,c=3,b=2)\n",
    "display(d=4,c=3,b=2,a=1) #a,b,c,d all are keyword arguments\n",
    "\n",
    "# error: positional argument follows keyword argument\n",
    "# display(a=1,2,d=4,c=3)\n",
    "\n",
    "# error: got multiple values for argument 'a'\n",
    "# display(4,d=1,c=2,a=1)"
   ]
  },
  {
   "cell_type": "markdown",
   "metadata": {},
   "source": [
    "Sometimes we may want to assign the value of arguments by their position only those arguments are called <b>Positional-Only-Arguments</b>. To designate some arguments as positional-only, you specify a bare slash <b>/</b> in the argument list of a function definition. Any argument to the left of the slash <b>/</b> must be specified positionally."
   ]
  },
  {
   "cell_type": "code",
   "execution_count": 22,
   "metadata": {},
   "outputs": [
    {
     "name": "stdout",
     "output_type": "stream",
     "text": [
      "1 -> 2 -> 3 -> 4\n",
      "1 -> 2 -> 4 -> 3\n"
     ]
    }
   ],
   "source": [
    "# here a & b are positional only arguments \n",
    "# c & d are by default positional arguments but can be changed to keyword arguments \n",
    "def display(a,b,/,c,d):\n",
    "    print(a,\"->\",b,\"->\",c,\"->\",d)\n",
    "    \n",
    "display(1,2,3,4)\n",
    "display(1,2,d=3,c=4)\n",
    "\n",
    "# error : got some positional-only arguments passed as keyword arguments: 'b'\n",
    "# this will results an error since b is positional only argument and we are trying to assign a value to it using keyword/argument name\n",
    "# display(1,b=2,d=3,c=4) "
   ]
  },
  {
   "cell_type": "markdown",
   "metadata": {},
   "source": [
    "Sometimes we may want to assign the value of arguments by their position only those arguments are called <b>Keyword-Only-Arguments</b>. The bare variable argument <b>*</b> indicates that there aren’t any more positional arguments. This behavior generates appropriate error messages if extra ones are specified."
   ]
  },
  {
   "cell_type": "code",
   "execution_count": 23,
   "metadata": {},
   "outputs": [
    {
     "name": "stdout",
     "output_type": "stream",
     "text": [
      "1 -> 2 -> 4 -> 3\n",
      "2 -> 1 -> 4 -> 3\n"
     ]
    }
   ],
   "source": [
    "# here c & d are only keyword arguments \n",
    "# a & b are by default positional arguments but can be changed to keyword arguments \n",
    "def display(a,b,*,c,d):\n",
    "    print(a,\"->\",b,\"->\",c,\"->\",d)\n",
    "    \n",
    "display(1,2,d=3,c=4)\n",
    "display(b=1,a=2,d=3,c=4)\n",
    "\n",
    "# TypeError: takes 2 positional arguments but 3 were given\n",
    "# results into error bcz argument c which is a only keyword argument value is not provided\n",
    "# display(1,2,3,b=4)"
   ]
  },
  {
   "cell_type": "markdown",
   "metadata": {},
   "source": [
    "<a id='Variable_Length_Arguments'></a>\n",
    "## Variable-Length Arguments\n",
    "We can pass any number of arguments to the functions dynamically using the concept of <b>Tuple Packing</b> where the number of elements passed is are packed into a tuple<br>\n",
    "Although we can use any name for the packed tuple in the function definition, <b>args</b> name is used as a standard which is short for arguments."
   ]
  },
  {
   "cell_type": "code",
   "execution_count": 24,
   "metadata": {},
   "outputs": [
    {
     "name": "stdout",
     "output_type": "stream",
     "text": [
      "6\n",
      "15\n",
      "55\n"
     ]
    }
   ],
   "source": [
    "#finding the addition of all the arguments of the function\n",
    "def add(*args):\n",
    "    s=0\n",
    "    for i in args:\n",
    "        s+=i\n",
    "    print(s)\n",
    "numbers_tuple=(1,2,3,4,5,6,7,8,9,10)\n",
    "\n",
    "add(1,2,3)\n",
    "add(1,2,3,4,5)\n",
    "\n",
    "add(*numbers_tuple) #uisng tuple unpacking in function call"
   ]
  },
  {
   "cell_type": "markdown",
   "metadata": {},
   "source": [
    "We can pass any number of arguments with name and value to the functions dynamically using the concept of <b>Dictionary Packing</b> where the number of elements passed is are packed into a dictionary in <i>key :value</i> pair with the key representing the  name of the argument and the value representing the value of the argument.<br>\n",
    "Although we can use any name for the packed dictionary in the function definition, <b>kwargs</b> name is used as a standard which is short for keyword arguments. "
   ]
  },
  {
   "cell_type": "code",
   "execution_count": 25,
   "metadata": {},
   "outputs": [
    {
     "name": "stdout",
     "output_type": "stream",
     "text": [
      "name : vishal\n",
      "branch : ML\n",
      "clg : IITH\n",
      "roll : CS18mtech11014\n",
      "cgpa : 8.2\n",
      "\n",
      "name : piyush\n",
      "branch : ML\n",
      "clg : IITH\n",
      "roll : CS18mtech11015\n",
      "\n"
     ]
    }
   ],
   "source": [
    "#passing the info about a student where the fields can be of variable length\n",
    "def student_data(**kwargs):\n",
    "    for key, value in kwargs.items():\n",
    "        print(key,\":\",value)\n",
    "    print()\n",
    "\n",
    "student_data(name=\"vishal\",branch=\"ML\",clg=\"IITH\",roll=\"CS18mtech11014\",cgpa=\"8.2\")\n",
    "\n",
    "student_data(name=\"piyush\",branch=\"ML\",clg=\"IITH\",roll=\"CS18mtech11015\")"
   ]
  },
  {
   "cell_type": "markdown",
   "metadata": {},
   "source": [
    "We can use the concept of <b>Tuple UnPacking</b> to unpack the value of tuple elements into function arguments.\n"
   ]
  },
  {
   "cell_type": "code",
   "execution_count": 26,
   "metadata": {},
   "outputs": [
    {
     "name": "stdout",
     "output_type": "stream",
     "text": [
      "Longitudes : 76.776695\n",
      "Latitudes : 30.37818\n",
      "Address:  Ambala 133005 Babyal Nagar\n",
      "\n",
      "Longitudes : 77.0266\n",
      "Latitudes : 28.459\n",
      "Address:  Gurgaon\n",
      "\n"
     ]
    }
   ],
   "source": [
    "#using tuple unpacking to unpack the values of location tuple into 3 arguments\n",
    "#1st value of tuple is assigned to 1st argument longitudes\n",
    "#2nd value of tuple is assigned to 2nd argument latitudes\n",
    "#since third argument is using tuple unpacking so the remaining info is stored in third argument address\n",
    "def location_info(longitudes,latitudes,*address):\n",
    "    print(\"Longitudes :\", longitudes)\n",
    "    print(\"Latitudes :\", latitudes)\n",
    "    print(\"Address: \",*address)\n",
    "    print()\n",
    "    \n",
    "location=(76.776695, 30.378180, \"Ambala\",133005,\"Babyal Nagar\")\n",
    "location_info(*location)\n",
    "\n",
    "location=( 77.0266,28.459, \"Gurgaon\")\n",
    "location_info(*location)"
   ]
  },
  {
   "cell_type": "markdown",
   "metadata": {},
   "source": [
    "<b>Multiple Unpackings</b> means unpacking is generalized over list, tuple and set so we can pass the data of a list, tuple and set altogether "
   ]
  },
  {
   "cell_type": "code",
   "execution_count": 27,
   "metadata": {},
   "outputs": [
    {
     "name": "stdout",
     "output_type": "stream",
     "text": [
      "30\n"
     ]
    }
   ],
   "source": [
    "#finding the addition of all the arguments of the function\n",
    "def add(*args):\n",
    "    s=0\n",
    "    for i in args:\n",
    "        s+=i\n",
    "    print(s)\n",
    "\n",
    "numbers_tuple=(1,2,3,4)\n",
    "numbers_list=[1,2,3,4]\n",
    "numbers_set={1,2,3,4}\n",
    "\n",
    "add(*numbers_tuple,*numbers_list,*numbers_set)"
   ]
  },
  {
   "cell_type": "markdown",
   "metadata": {},
   "source": [
    "<a id='Docstrings'></a>\n",
    "## Docstrings\n",
    "This is used to provide better understanding of the task performed by the function.<br>\n",
    "<code> function_name.__doc__ </code> can be used to find the docstrings of a given function."
   ]
  },
  {
   "cell_type": "code",
   "execution_count": 28,
   "metadata": {},
   "outputs": [
    {
     "name": "stdout",
     "output_type": "stream",
     "text": [
      "10\n",
      "This function display the value of number passed\n"
     ]
    }
   ],
   "source": [
    "def display(number):\n",
    "    \"\"\"This function display the value of number passed\"\"\"\n",
    "    print(number)\n",
    "\n",
    "x=10\n",
    "display(x)\n",
    "\n",
    "print(display.__doc__)"
   ]
  },
  {
   "cell_type": "markdown",
   "metadata": {},
   "source": [
    "<a id='Lambda_Functions'></a>\n",
    "## Lambda Functions\n",
    "This is a special type of function which is defined using keyword <b>lambda</b> and this function doesn't require any name that why it is also called Anonymous Function.\n",
    "```python\n",
    "lambda arguments: expression\n",
    "```\n",
    "Lambda functions can have any number of arguments but only one expression. The expression is evaluated and returned."
   ]
  },
  {
   "cell_type": "code",
   "execution_count": 29,
   "metadata": {},
   "outputs": [
    {
     "name": "stdout",
     "output_type": "stream",
     "text": [
      "16\n",
      "False\n"
     ]
    }
   ],
   "source": [
    "square= lambda x: x*x\n",
    "even= lambda x: x%2==0\n",
    "\n",
    "print(square(4))\n",
    "print(even(5))"
   ]
  },
  {
   "cell_type": "markdown",
   "metadata": {},
   "source": [
    "<a id='Global_Local_Nonlocal_Variables'></a>\n",
    "## Global, Local and Nonlocal Variables\n",
    "- The area/ block of code where a variable can be accessed is as the <i>Scope of the Variable</i>.<br>\n",
    "- If a variable can be accessed anywhere in the code is called <b>global variables</b> means its scope is global. The global variable is defined outside all blocks.<br>\n",
    "- If a variable is defined inside a block then its scope is limited to that block only, such variable is called <b>local variables</b> means it is available to the block of code locally.<br>\n",
    "- Nonlocal variables are used in nested functions whose local scope is not defined. This means that the variable can be neither in the local nor the global scope."
   ]
  },
  {
   "cell_type": "code",
   "execution_count": 30,
   "metadata": {},
   "outputs": [
    {
     "name": "stdout",
     "output_type": "stream",
     "text": [
      "Inside the function x is global varaiable\n",
      "Inside the function y is local variable\n",
      "global varaiable\n"
     ]
    }
   ],
   "source": [
    "# x is global variable\n",
    "x=\"global varaiable\"\n",
    "\n",
    "def display():\n",
    "    y=\"local variable\" # y is a local variable\n",
    "    print(\"Inside the function x is\",x) #accessing the global variable inside the function \n",
    "    print(\"Inside the function y is\",y) #accessing the local variable\n",
    "    \n",
    "display()\n",
    "\n",
    "print(x)\n",
    "\n",
    "# this results in NameError: name 'y' is not defined\n",
    "# since y scope is only limited to the function body\n",
    "# print(y)"
   ]
  },
  {
   "cell_type": "markdown",
   "metadata": {},
   "source": [
    "if we want to modify/increment  the value of global variable x inside a  function like shown bellow \n",
    "```python\n",
    "x=10\n",
    "def increment():\n",
    "    x = x +1\n",
    "```    \n",
    "we will get this error <code> UnboundLocalError: local variable 'x' referenced before assignment</code> it is becuase when we use <code>x = x +1</code> assignment operation inside the function on a variable, python by default assigns create a local variable with name x in local scope and tries to increment it but since its value is not defined yet that why we are getting the error. <br>\n",
    "\n",
    "\n",
    "To avoid this issue python provides a keyword <b>global</b> to import the value of a global variable in the function body."
   ]
  },
  {
   "cell_type": "code",
   "execution_count": 31,
   "metadata": {},
   "outputs": [
    {
     "name": "stdout",
     "output_type": "stream",
     "text": [
      "11\n"
     ]
    }
   ],
   "source": [
    "x=10\n",
    "\n",
    "def increment():\n",
    "    global x #importing the global variable value\n",
    "    x = x +1 #incrementing the global variable\n",
    "    \n",
    "increment()\n",
    "print(x)"
   ]
  },
  {
   "cell_type": "markdown",
   "metadata": {},
   "source": [
    "If we want to access the value of the outer function variable through inner function then we have to use <b>nonlocal</b> keyword otherwise local value is used in the inner function."
   ]
  },
  {
   "cell_type": "code",
   "execution_count": 32,
   "metadata": {},
   "outputs": [
    {
     "name": "stdout",
     "output_type": "stream",
     "text": [
      "11\n"
     ]
    }
   ],
   "source": [
    "def outer():\n",
    "    x = 10\n",
    "\n",
    "    def inner():\n",
    "        nonlocal x\n",
    "        x = x + 1\n",
    "        \n",
    "    inner()\n",
    "    print(x)\n",
    "\n",
    "outer()"
   ]
  }
 ],
 "metadata": {
  "kernelspec": {
   "display_name": "Python 3",
   "language": "python",
   "name": "python3"
  },
  "language_info": {
   "codemirror_mode": {
    "name": "ipython",
    "version": 3
   },
   "file_extension": ".py",
   "mimetype": "text/x-python",
   "name": "python",
   "nbconvert_exporter": "python",
   "pygments_lexer": "ipython3",
   "version": "3.8.5"
  }
 },
 "nbformat": 4,
 "nbformat_minor": 4
}
