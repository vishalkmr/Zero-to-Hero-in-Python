{
 "cells": [
  {
   "cell_type": "markdown",
   "metadata": {},
   "source": [
    "<img src=\"images/install0.png\" style=\"float: right;\"  width=250 height=250 />\n",
    "\n",
    "# Setup And Installation\n",
    "\n",
    "- [Basic Python Setup](#Python)\n",
    "    - [Windows](#Windows)\n",
    "    - [Ubuntu](#Ubuntu)\n",
    "- [Anaconda Distribution Setup](#Anaconda)\n",
    "    - [Windows](#Anaconda_Windows)\n",
    "    - [Ubuntu](#Anaconda_Ubuntu)\n",
    "- [Google Colab](#Google_Colab)\n"
   ]
  },
  {
   "cell_type": "markdown",
   "metadata": {},
   "source": [
    "----\n",
    "<a id='Python'></a>\n",
    "## Basic Python Setup\n",
    "Download the required version of python for your operating system from \n",
    "<a href=\"https://www.python.org/downloads/\">link</a>"
   ]
  },
  {
   "cell_type": "markdown",
   "metadata": {},
   "source": [
    "<a id='Windows'></a>\n",
    "### Windows\n",
    "if you run the exe file then you see window simmilar to this image\n",
    "\n",
    "<img src=\"images/install.PNG\"  width=550 height=550 />\n",
    "\n",
    "Select <b>add Python 3.x to PATH</b> and click on <b>Install Now</b>\n",
    "\n",
    "Once the installation is finished you will see window simmilar to this\n",
    "\n",
    "<img src=\"images/install2.PNG\"  width=550 height=550 />"
   ]
  },
  {
   "cell_type": "markdown",
   "metadata": {},
   "source": [
    "<a id='Ubuntu'></a>\n",
    "### Ubuntu\n",
    "Most of Ubuntu version came with pre-installed Python, so we don't need to download it. However we may wish to update the python to latest version."
   ]
  },
  {
   "cell_type": "markdown",
   "metadata": {},
   "source": [
    "----\n",
    "<a id='Anaconda'></a>\n",
    "## Anaconda  Distribution Setup\n",
    "Sometime user wants to use some additional libararies on the top of basic python, in that case the user has to download the required library one by one using pip which can be a little tideous task. So to resolve this issue, various python distributions are provided by  third parties which contains basic python along with some additional libararies. Anaconda distribution is one of the famous distribution for data science specific tasks.\n",
    "\n",
    "Download the required version of Anaconda for your operating system from \n",
    "<a href=\"https://www.anaconda.com/products/individual\">link</a>\n",
    "\n",
    "\n"
   ]
  },
  {
   "cell_type": "markdown",
   "metadata": {},
   "source": [
    "<a id='Anaconda_Windows'></a>\n",
    "### Windows\n",
    "Follows the step mentioned in the bellow images to install anaconda distribution on a window operating system.\n",
    "\n",
    "<img src=\"images/anaconda.PNG\"  width=550 height=550 />\n",
    "\n",
    "<img src=\"images/anaconda1.PNG\"  width=550 height=550 />\n",
    "\n",
    "<img src=\"images/anaconda2.PNG\"  width=550 height=550 />\n",
    "\n",
    "<img src=\"images/anaconda3.PNG\"  width=550 height=550 />\n",
    "\n",
    "<img src=\"images/anaconda4.PNG\"  width=550 height=550 />\n",
    "\n",
    "<img src=\"images/anaconda5.PNG\"  width=550 height=550 />\n",
    "\n",
    "<img src=\"images/anaconda6.PNG\"  width=550 height=550 />\n",
    "\n",
    "<img src=\"images/anaconda7.PNG\"  width=550 height=550 />"
   ]
  },
  {
   "cell_type": "markdown",
   "metadata": {},
   "source": [
    "<a id='Anaconda_Ubuntu'></a>\n",
    "### Ubuntu\n",
    "The download link will download sh file something like Anaconda3-2021.05-Linux-x86_64.sh.<br>\n",
    "Follows the step mentioned in the bellow images to install anaconda distribution on a ubuntu operating system.\n",
    "\n",
    "<img src=\"images/anaconda8.png\"  width=550 height=550 />\n",
    "\n",
    "<img src=\"images/anaconda9.png\"  width=550 height=550 />\n",
    "\n",
    "<img src=\"images/anaconda10.png\"  width=550 height=550 />\n",
    "\n",
    "<img src=\"images/anaconda11.png\"  width=550 height=550 />\n",
    "\n",
    "<img src=\"images/anaconda12.png\"  width=550 height=550 />"
   ]
  },
  {
   "cell_type": "markdown",
   "metadata": {},
   "source": [
    "----\n",
    "<a id='Google_Colab'></a>\n",
    "## Google Colab\n",
    "\n",
    "If you don't want to install python on your system and want to use some online editor for python scripts then <b>Google Colab</b> is one of the best option for it, which provide an Interactive mode python editor.\n",
    "\n",
    "You can go to the colab site using this <a href=\"https://colab.research.google.com/notebooks/intro.ipynb\">link</a>. Just login in to your google account and open the new notebook file \n",
    "\n",
    "<img src=\"images/colab.png\"  width=550 height=550 />\n",
    "\n",
    "Once the notebook is opened you can run your python script easily.\n",
    "\n",
    "<img src=\"images/colab1.png\"  width=550 height=550 />\n",
    "\n",
    " For quick introduction on google colab watch this <a href=\"https://www.youtube.com/watch?v=inN8seMm7UI\">video tutorial<a>"
   ]
  }
 ],
 "metadata": {
  "kernelspec": {
   "display_name": "Python 3",
   "language": "python",
   "name": "python3"
  },
  "language_info": {
   "codemirror_mode": {
    "name": "ipython",
    "version": 3
   },
   "file_extension": ".py",
   "mimetype": "text/x-python",
   "name": "python",
   "nbconvert_exporter": "python",
   "pygments_lexer": "ipython3",
   "version": "3.8.5"
  }
 },
 "nbformat": 4,
 "nbformat_minor": 4
}
